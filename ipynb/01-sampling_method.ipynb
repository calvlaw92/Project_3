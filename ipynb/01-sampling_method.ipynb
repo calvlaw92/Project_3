{
 "cells": [
  {
   "cell_type": "code",
   "execution_count": 2,
   "metadata": {},
   "outputs": [],
   "source": [
    "data(Boston,package=\"MASS\")"
   ]
  },
  {
   "cell_type": "code",
   "execution_count": 3,
   "metadata": {},
   "outputs": [
    {
     "data": {
      "text/html": [
       "<ol class=list-inline>\n",
       "\t<li>506</li>\n",
       "\t<li>14</li>\n",
       "</ol>\n"
      ],
      "text/latex": [
       "\\begin{enumerate*}\n",
       "\\item 506\n",
       "\\item 14\n",
       "\\end{enumerate*}\n"
      ],
      "text/markdown": [
       "1. 506\n",
       "2. 14\n",
       "\n",
       "\n"
      ],
      "text/plain": [
       "[1] 506  14"
      ]
     },
     "metadata": {},
     "output_type": "display_data"
    }
   ],
   "source": [
    "dim(Boston)"
   ]
  },
  {
   "cell_type": "code",
   "execution_count": 4,
   "metadata": {},
   "outputs": [
    {
     "data": {
      "text/html": [
       "<ol class=list-inline>\n",
       "\t<li>'crim'</li>\n",
       "\t<li>'zn'</li>\n",
       "\t<li>'indus'</li>\n",
       "\t<li>'chas'</li>\n",
       "\t<li>'nox'</li>\n",
       "\t<li>'rm'</li>\n",
       "\t<li>'age'</li>\n",
       "\t<li>'dis'</li>\n",
       "\t<li>'rad'</li>\n",
       "\t<li>'tax'</li>\n",
       "\t<li>'ptratio'</li>\n",
       "\t<li>'black'</li>\n",
       "\t<li>'lstat'</li>\n",
       "\t<li>'medv'</li>\n",
       "</ol>\n"
      ],
      "text/latex": [
       "\\begin{enumerate*}\n",
       "\\item 'crim'\n",
       "\\item 'zn'\n",
       "\\item 'indus'\n",
       "\\item 'chas'\n",
       "\\item 'nox'\n",
       "\\item 'rm'\n",
       "\\item 'age'\n",
       "\\item 'dis'\n",
       "\\item 'rad'\n",
       "\\item 'tax'\n",
       "\\item 'ptratio'\n",
       "\\item 'black'\n",
       "\\item 'lstat'\n",
       "\\item 'medv'\n",
       "\\end{enumerate*}\n"
      ],
      "text/markdown": [
       "1. 'crim'\n",
       "2. 'zn'\n",
       "3. 'indus'\n",
       "4. 'chas'\n",
       "5. 'nox'\n",
       "6. 'rm'\n",
       "7. 'age'\n",
       "8. 'dis'\n",
       "9. 'rad'\n",
       "10. 'tax'\n",
       "11. 'ptratio'\n",
       "12. 'black'\n",
       "13. 'lstat'\n",
       "14. 'medv'\n",
       "\n",
       "\n"
      ],
      "text/plain": [
       " [1] \"crim\"    \"zn\"      \"indus\"   \"chas\"    \"nox\"     \"rm\"      \"age\"    \n",
       " [8] \"dis\"     \"rad\"     \"tax\"     \"ptratio\" \"black\"   \"lstat\"   \"medv\"   "
      ]
     },
     "metadata": {},
     "output_type": "display_data"
    }
   ],
   "source": [
    "names(Boston)"
   ]
  },
  {
   "cell_type": "code",
   "execution_count": 5,
   "metadata": {},
   "outputs": [
    {
     "data": {
      "text/plain": [
       "      crim                zn             indus            chas        \n",
       " Min.   : 0.00632   Min.   :  0.00   Min.   : 0.46   Min.   :0.00000  \n",
       " 1st Qu.: 0.08204   1st Qu.:  0.00   1st Qu.: 5.19   1st Qu.:0.00000  \n",
       " Median : 0.25651   Median :  0.00   Median : 9.69   Median :0.00000  \n",
       " Mean   : 3.61352   Mean   : 11.36   Mean   :11.14   Mean   :0.06917  \n",
       " 3rd Qu.: 3.67708   3rd Qu.: 12.50   3rd Qu.:18.10   3rd Qu.:0.00000  \n",
       " Max.   :88.97620   Max.   :100.00   Max.   :27.74   Max.   :1.00000  \n",
       "      nox               rm             age              dis        \n",
       " Min.   :0.3850   Min.   :3.561   Min.   :  2.90   Min.   : 1.130  \n",
       " 1st Qu.:0.4490   1st Qu.:5.886   1st Qu.: 45.02   1st Qu.: 2.100  \n",
       " Median :0.5380   Median :6.208   Median : 77.50   Median : 3.207  \n",
       " Mean   :0.5547   Mean   :6.285   Mean   : 68.57   Mean   : 3.795  \n",
       " 3rd Qu.:0.6240   3rd Qu.:6.623   3rd Qu.: 94.08   3rd Qu.: 5.188  \n",
       " Max.   :0.8710   Max.   :8.780   Max.   :100.00   Max.   :12.127  \n",
       "      rad              tax           ptratio          black       \n",
       " Min.   : 1.000   Min.   :187.0   Min.   :12.60   Min.   :  0.32  \n",
       " 1st Qu.: 4.000   1st Qu.:279.0   1st Qu.:17.40   1st Qu.:375.38  \n",
       " Median : 5.000   Median :330.0   Median :19.05   Median :391.44  \n",
       " Mean   : 9.549   Mean   :408.2   Mean   :18.46   Mean   :356.67  \n",
       " 3rd Qu.:24.000   3rd Qu.:666.0   3rd Qu.:20.20   3rd Qu.:396.23  \n",
       " Max.   :24.000   Max.   :711.0   Max.   :22.00   Max.   :396.90  \n",
       "     lstat            medv      \n",
       " Min.   : 1.73   Min.   : 5.00  \n",
       " 1st Qu.: 6.95   1st Qu.:17.02  \n",
       " Median :11.36   Median :21.20  \n",
       " Mean   :12.65   Mean   :22.53  \n",
       " 3rd Qu.:16.95   3rd Qu.:25.00  \n",
       " Max.   :37.97   Max.   :50.00  "
      ]
     },
     "metadata": {},
     "output_type": "display_data"
    }
   ],
   "source": [
    "summary(Boston)"
   ]
  },
  {
   "cell_type": "code",
   "execution_count": 6,
   "metadata": {},
   "outputs": [
    {
     "name": "stdout",
     "output_type": "stream",
     "text": [
      "'data.frame':\t506 obs. of  14 variables:\n",
      " $ crim   : num  0.00632 0.02731 0.02729 0.03237 0.06905 ...\n",
      " $ zn     : num  18 0 0 0 0 0 12.5 12.5 12.5 12.5 ...\n",
      " $ indus  : num  2.31 7.07 7.07 2.18 2.18 2.18 7.87 7.87 7.87 7.87 ...\n",
      " $ chas   : int  0 0 0 0 0 0 0 0 0 0 ...\n",
      " $ nox    : num  0.538 0.469 0.469 0.458 0.458 0.458 0.524 0.524 0.524 0.524 ...\n",
      " $ rm     : num  6.58 6.42 7.18 7 7.15 ...\n",
      " $ age    : num  65.2 78.9 61.1 45.8 54.2 58.7 66.6 96.1 100 85.9 ...\n",
      " $ dis    : num  4.09 4.97 4.97 6.06 6.06 ...\n",
      " $ rad    : int  1 2 2 3 3 3 5 5 5 5 ...\n",
      " $ tax    : num  296 242 242 222 222 222 311 311 311 311 ...\n",
      " $ ptratio: num  15.3 17.8 17.8 18.7 18.7 18.7 15.2 15.2 15.2 15.2 ...\n",
      " $ black  : num  397 397 393 395 397 ...\n",
      " $ lstat  : num  4.98 9.14 4.03 2.94 5.33 ...\n",
      " $ medv   : num  24 21.6 34.7 33.4 36.2 28.7 22.9 27.1 16.5 18.9 ...\n"
     ]
    }
   ],
   "source": [
    "str(Boston)"
   ]
  },
  {
   "cell_type": "code",
   "execution_count": 7,
   "metadata": {},
   "outputs": [
    {
     "name": "stderr",
     "output_type": "stream",
     "text": [
      "Updating HTML index of packages in '.Library'\n",
      "Making 'packages.html' ... done\n"
     ]
    }
   ],
   "source": [
    "install.packages('moments')"
   ]
  },
  {
   "cell_type": "code",
   "execution_count": 8,
   "metadata": {},
   "outputs": [],
   "source": [
    "library(moments)"
   ]
  },
  {
   "cell_type": "code",
   "execution_count": 39,
   "metadata": {},
   "outputs": [
    {
     "data": {
      "text/html": [
       "<dl class=dl-horizontal>\n",
       "\t<dt>crim</dt>\n",
       "\t\t<dd>5.20765238785972</dd>\n",
       "\t<dt>zn</dt>\n",
       "\t\t<dd>2.21906305714843</dd>\n",
       "\t<dt>indus</dt>\n",
       "\t\t<dd>0.294146276844185</dd>\n",
       "\t<dt>chas</dt>\n",
       "\t\t<dd>3.39579929264252</dd>\n",
       "\t<dt>nox</dt>\n",
       "\t\t<dd>0.727144159774032</dd>\n",
       "\t<dt>rm</dt>\n",
       "\t\t<dd>0.402414668024963</dd>\n",
       "\t<dt>age</dt>\n",
       "\t\t<dd>-0.597185594801614</dd>\n",
       "\t<dt>dis</dt>\n",
       "\t\t<dd>1.00877875651523</dd>\n",
       "\t<dt>rad</dt>\n",
       "\t\t<dd>1.0018334924537</dd>\n",
       "\t<dt>tax</dt>\n",
       "\t\t<dd>0.667968268723777</dd>\n",
       "\t<dt>ptratio</dt>\n",
       "\t\t<dd>-0.799944532036745</dd>\n",
       "\t<dt>black</dt>\n",
       "\t\t<dd>-2.88179834526277</dd>\n",
       "\t<dt>lstat</dt>\n",
       "\t\t<dd>0.903770743134614</dd>\n",
       "\t<dt>medv</dt>\n",
       "\t\t<dd>1.10481082286464</dd>\n",
       "</dl>\n"
      ],
      "text/latex": [
       "\\begin{description*}\n",
       "\\item[crim] 5.20765238785972\n",
       "\\item[zn] 2.21906305714843\n",
       "\\item[indus] 0.294146276844185\n",
       "\\item[chas] 3.39579929264252\n",
       "\\item[nox] 0.727144159774032\n",
       "\\item[rm] 0.402414668024963\n",
       "\\item[age] -0.597185594801614\n",
       "\\item[dis] 1.00877875651523\n",
       "\\item[rad] 1.0018334924537\n",
       "\\item[tax] 0.667968268723777\n",
       "\\item[ptratio] -0.799944532036745\n",
       "\\item[black] -2.88179834526277\n",
       "\\item[lstat] 0.903770743134614\n",
       "\\item[medv] 1.10481082286464\n",
       "\\end{description*}\n"
      ],
      "text/markdown": [
       "crim\n",
       ":   5.20765238785972zn\n",
       ":   2.21906305714843indus\n",
       ":   0.294146276844185chas\n",
       ":   3.39579929264252nox\n",
       ":   0.727144159774032rm\n",
       ":   0.402414668024963age\n",
       ":   -0.597185594801614dis\n",
       ":   1.00877875651523rad\n",
       ":   1.0018334924537tax\n",
       ":   0.667968268723777ptratio\n",
       ":   -0.799944532036745black\n",
       ":   -2.88179834526277lstat\n",
       ":   0.903770743134614medv\n",
       ":   1.10481082286464\n",
       "\n"
      ],
      "text/plain": [
       "      crim         zn      indus       chas        nox         rm        age \n",
       " 5.2076524  2.2190631  0.2941463  3.3957993  0.7271442  0.4024147 -0.5971856 \n",
       "       dis        rad        tax    ptratio      black      lstat       medv \n",
       " 1.0087788  1.0018335  0.6679683 -0.7999445 -2.8817983  0.9037707  1.1048108 "
      ]
     },
     "metadata": {},
     "output_type": "display_data"
    }
   ],
   "source": [
    "skewness(Boston)"
   ]
  },
  {
   "cell_type": "code",
   "execution_count": 40,
   "metadata": {
    "scrolled": true
   },
   "outputs": [
    {
     "data": {
      "text/html": [
       "<table>\n",
       "<thead><tr><th scope=col>feature</th><th scope=col>mean_</th><th scope=col>sd_</th><th scope=col>skewness_</th></tr></thead>\n",
       "<tbody>\n",
       "\t<tr><td>crim        </td><td>  3.61352356</td><td>  8.6015451 </td><td> 5.2076524  </td></tr>\n",
       "\t<tr><td>zn          </td><td> 11.36363636</td><td> 23.3224530 </td><td> 2.2190631  </td></tr>\n",
       "\t<tr><td>indus       </td><td> 11.13677866</td><td>  6.8603529 </td><td> 0.2941463  </td></tr>\n",
       "\t<tr><td>chas        </td><td>  0.06916996</td><td>  0.2539940 </td><td> 3.3957993  </td></tr>\n",
       "\t<tr><td>nox         </td><td>  0.55469506</td><td>  0.1158777 </td><td> 0.7271442  </td></tr>\n",
       "\t<tr><td>rm          </td><td>  6.28463439</td><td>  0.7026171 </td><td> 0.4024147  </td></tr>\n",
       "\t<tr><td>age         </td><td> 68.57490119</td><td> 28.1488614 </td><td>-0.5971856  </td></tr>\n",
       "\t<tr><td>dis         </td><td>  3.79504269</td><td>  2.1057101 </td><td> 1.0087788  </td></tr>\n",
       "\t<tr><td>rad         </td><td>  9.54940711</td><td>  8.7072594 </td><td> 1.0018335  </td></tr>\n",
       "\t<tr><td>tax         </td><td>408.23715415</td><td>168.5371161 </td><td> 0.6679683  </td></tr>\n",
       "\t<tr><td>ptratio     </td><td> 18.45553360</td><td>  2.1649455 </td><td>-0.7999445  </td></tr>\n",
       "\t<tr><td>black       </td><td>356.67403162</td><td> 91.2948644 </td><td>-2.8817983  </td></tr>\n",
       "\t<tr><td>lstat       </td><td> 12.65306324</td><td>  7.1410615 </td><td> 0.9037707  </td></tr>\n",
       "\t<tr><td>medv        </td><td> 22.53280632</td><td>  9.1971041 </td><td> 1.1048108  </td></tr>\n",
       "</tbody>\n",
       "</table>\n"
      ],
      "text/latex": [
       "\\begin{tabular}{r|llll}\n",
       " feature & mean\\_ & sd\\_ & skewness\\_\\\\\n",
       "\\hline\n",
       "\t crim         &   3.61352356 &   8.6015451  &  5.2076524  \\\\\n",
       "\t zn           &  11.36363636 &  23.3224530  &  2.2190631  \\\\\n",
       "\t indus        &  11.13677866 &   6.8603529  &  0.2941463  \\\\\n",
       "\t chas         &   0.06916996 &   0.2539940  &  3.3957993  \\\\\n",
       "\t nox          &   0.55469506 &   0.1158777  &  0.7271442  \\\\\n",
       "\t rm           &   6.28463439 &   0.7026171  &  0.4024147  \\\\\n",
       "\t age          &  68.57490119 &  28.1488614  & -0.5971856  \\\\\n",
       "\t dis          &   3.79504269 &   2.1057101  &  1.0087788  \\\\\n",
       "\t rad          &   9.54940711 &   8.7072594  &  1.0018335  \\\\\n",
       "\t tax          & 408.23715415 & 168.5371161  &  0.6679683  \\\\\n",
       "\t ptratio      &  18.45553360 &   2.1649455  & -0.7999445  \\\\\n",
       "\t black        & 356.67403162 &  91.2948644  & -2.8817983  \\\\\n",
       "\t lstat        &  12.65306324 &   7.1410615  &  0.9037707  \\\\\n",
       "\t medv         &  22.53280632 &   9.1971041  &  1.1048108  \\\\\n",
       "\\end{tabular}\n"
      ],
      "text/markdown": [
       "\n",
       "feature | mean_ | sd_ | skewness_ | \n",
       "|---|---|---|---|---|---|---|---|---|---|---|---|---|---|\n",
       "| crim         |   3.61352356 |   8.6015451  |  5.2076524   | \n",
       "| zn           |  11.36363636 |  23.3224530  |  2.2190631   | \n",
       "| indus        |  11.13677866 |   6.8603529  |  0.2941463   | \n",
       "| chas         |   0.06916996 |   0.2539940  |  3.3957993   | \n",
       "| nox          |   0.55469506 |   0.1158777  |  0.7271442   | \n",
       "| rm           |   6.28463439 |   0.7026171  |  0.4024147   | \n",
       "| age          |  68.57490119 |  28.1488614  | -0.5971856   | \n",
       "| dis          |   3.79504269 |   2.1057101  |  1.0087788   | \n",
       "| rad          |   9.54940711 |   8.7072594  |  1.0018335   | \n",
       "| tax          | 408.23715415 | 168.5371161  |  0.6679683   | \n",
       "| ptratio      |  18.45553360 |   2.1649455  | -0.7999445   | \n",
       "| black        | 356.67403162 |  91.2948644  | -2.8817983   | \n",
       "| lstat        |  12.65306324 |   7.1410615  |  0.9037707   | \n",
       "| medv         |  22.53280632 |   9.1971041  |  1.1048108   | \n",
       "\n",
       "\n"
      ],
      "text/plain": [
       "   feature mean_        sd_         skewness_ \n",
       "1  crim      3.61352356   8.6015451  5.2076524\n",
       "2  zn       11.36363636  23.3224530  2.2190631\n",
       "3  indus    11.13677866   6.8603529  0.2941463\n",
       "4  chas      0.06916996   0.2539940  3.3957993\n",
       "5  nox       0.55469506   0.1158777  0.7271442\n",
       "6  rm        6.28463439   0.7026171  0.4024147\n",
       "7  age      68.57490119  28.1488614 -0.5971856\n",
       "8  dis       3.79504269   2.1057101  1.0087788\n",
       "9  rad       9.54940711   8.7072594  1.0018335\n",
       "10 tax     408.23715415 168.5371161  0.6679683\n",
       "11 ptratio  18.45553360   2.1649455 -0.7999445\n",
       "12 black   356.67403162  91.2948644 -2.8817983\n",
       "13 lstat    12.65306324   7.1410615  0.9037707\n",
       "14 medv     22.53280632   9.1971041  1.1048108"
      ]
     },
     "metadata": {},
     "output_type": "display_data"
    }
   ],
   "source": [
    "stats = data.frame(feature=colnames(Boston))\n",
    "stats['mean_'] = sapply(Boston, mean)\n",
    "stats['sd_'] = sapply(Boston, sd)\n",
    "stats['skewness_'] = sapply(Boston, skewness)\n",
    "stats"
   ]
  },
  {
   "cell_type": "markdown",
   "metadata": {},
   "source": [
    "# Sampling"
   ]
  },
  {
   "cell_type": "code",
   "execution_count": 41,
   "metadata": {},
   "outputs": [],
   "source": [
    "library(dplyr, warn.conflicts = FALSE)"
   ]
  },
  {
   "cell_type": "code",
   "execution_count": 42,
   "metadata": {},
   "outputs": [],
   "source": [
    "set.seed(15)"
   ]
  },
  {
   "cell_type": "code",
   "execution_count": 43,
   "metadata": {},
   "outputs": [],
   "source": [
    "sample = sample_n(Boston, 10)"
   ]
  },
  {
   "cell_type": "code",
   "execution_count": 44,
   "metadata": {
    "scrolled": true
   },
   "outputs": [
    {
     "data": {
      "text/html": [
       "<table>\n",
       "<thead><tr><th></th><th scope=col>crim</th><th scope=col>zn</th><th scope=col>indus</th><th scope=col>chas</th><th scope=col>nox</th><th scope=col>rm</th><th scope=col>age</th><th scope=col>dis</th><th scope=col>rad</th><th scope=col>tax</th><th scope=col>ptratio</th><th scope=col>black</th><th scope=col>lstat</th><th scope=col>medv</th></tr></thead>\n",
       "<tbody>\n",
       "\t<tr><th scope=row>305</th><td> 0.05515</td><td>33      </td><td> 2.18   </td><td>0       </td><td>0.472   </td><td>7.236   </td><td> 41.1   </td><td>4.0220  </td><td> 7      </td><td>222     </td><td>18.4    </td><td>393.68  </td><td> 6.93   </td><td>36.1    </td></tr>\n",
       "\t<tr><th scope=row>99</th><td> 0.08187</td><td> 0      </td><td> 2.89   </td><td>0       </td><td>0.445   </td><td>7.820   </td><td> 36.9   </td><td>3.4952  </td><td> 2      </td><td>276     </td><td>18.0    </td><td>393.53  </td><td> 3.57   </td><td>43.8    </td></tr>\n",
       "\t<tr><th scope=row>488</th><td> 4.83567</td><td> 0      </td><td>18.10   </td><td>0       </td><td>0.583   </td><td>5.905   </td><td> 53.2   </td><td>3.1523  </td><td>24      </td><td>666     </td><td>20.2    </td><td>388.22  </td><td>11.45   </td><td>20.6    </td></tr>\n",
       "\t<tr><th scope=row>328</th><td> 0.24103</td><td> 0      </td><td> 7.38   </td><td>0       </td><td>0.493   </td><td>6.083   </td><td> 43.7   </td><td>5.4159  </td><td> 5      </td><td>287     </td><td>19.6    </td><td>396.90  </td><td>12.79   </td><td>22.2    </td></tr>\n",
       "\t<tr><th scope=row>185</th><td> 0.08308</td><td> 0      </td><td> 2.46   </td><td>0       </td><td>0.488   </td><td>5.604   </td><td> 89.8   </td><td>2.9879  </td><td> 3      </td><td>193     </td><td>17.8    </td><td>391.00  </td><td>13.98   </td><td>26.4    </td></tr>\n",
       "\t<tr><th scope=row>496</th><td> 0.17899</td><td> 0      </td><td> 9.69   </td><td>0       </td><td>0.585   </td><td>5.670   </td><td> 28.8   </td><td>2.7986  </td><td> 6      </td><td>391     </td><td>19.2    </td><td>393.29  </td><td>17.60   </td><td>23.1    </td></tr>\n",
       "\t<tr><th scope=row>408</th><td>11.95110</td><td> 0      </td><td>18.10   </td><td>0       </td><td>0.659   </td><td>5.608   </td><td>100.0   </td><td>1.2852  </td><td>24      </td><td>666     </td><td>20.2    </td><td>332.09  </td><td>12.13   </td><td>27.9    </td></tr>\n",
       "\t<tr><th scope=row>127</th><td> 0.38735</td><td> 0      </td><td>25.65   </td><td>0       </td><td>0.581   </td><td>5.613   </td><td> 95.6   </td><td>1.7572  </td><td> 2      </td><td>188     </td><td>19.1    </td><td>359.29  </td><td>27.26   </td><td>15.7    </td></tr>\n",
       "\t<tr><th scope=row>343</th><td> 0.02498</td><td> 0      </td><td> 1.89   </td><td>0       </td><td>0.518   </td><td>6.540   </td><td> 59.7   </td><td>6.2669  </td><td> 1      </td><td>422     </td><td>15.9    </td><td>389.96  </td><td> 8.65   </td><td>16.5    </td></tr>\n",
       "\t<tr><th scope=row>414</th><td>28.65580</td><td> 0      </td><td>18.10   </td><td>0       </td><td>0.597   </td><td>5.155   </td><td>100.0   </td><td>1.5894  </td><td>24      </td><td>666     </td><td>20.2    </td><td>210.97  </td><td>20.08   </td><td>16.3    </td></tr>\n",
       "</tbody>\n",
       "</table>\n"
      ],
      "text/latex": [
       "\\begin{tabular}{r|llllllllllllll}\n",
       "  & crim & zn & indus & chas & nox & rm & age & dis & rad & tax & ptratio & black & lstat & medv\\\\\n",
       "\\hline\n",
       "\t305 &  0.05515 & 33       &  2.18    & 0        & 0.472    & 7.236    &  41.1    & 4.0220   &  7       & 222      & 18.4     & 393.68   &  6.93    & 36.1    \\\\\n",
       "\t99 &  0.08187 &  0       &  2.89    & 0        & 0.445    & 7.820    &  36.9    & 3.4952   &  2       & 276      & 18.0     & 393.53   &  3.57    & 43.8    \\\\\n",
       "\t488 &  4.83567 &  0       & 18.10    & 0        & 0.583    & 5.905    &  53.2    & 3.1523   & 24       & 666      & 20.2     & 388.22   & 11.45    & 20.6    \\\\\n",
       "\t328 &  0.24103 &  0       &  7.38    & 0        & 0.493    & 6.083    &  43.7    & 5.4159   &  5       & 287      & 19.6     & 396.90   & 12.79    & 22.2    \\\\\n",
       "\t185 &  0.08308 &  0       &  2.46    & 0        & 0.488    & 5.604    &  89.8    & 2.9879   &  3       & 193      & 17.8     & 391.00   & 13.98    & 26.4    \\\\\n",
       "\t496 &  0.17899 &  0       &  9.69    & 0        & 0.585    & 5.670    &  28.8    & 2.7986   &  6       & 391      & 19.2     & 393.29   & 17.60    & 23.1    \\\\\n",
       "\t408 & 11.95110 &  0       & 18.10    & 0        & 0.659    & 5.608    & 100.0    & 1.2852   & 24       & 666      & 20.2     & 332.09   & 12.13    & 27.9    \\\\\n",
       "\t127 &  0.38735 &  0       & 25.65    & 0        & 0.581    & 5.613    &  95.6    & 1.7572   &  2       & 188      & 19.1     & 359.29   & 27.26    & 15.7    \\\\\n",
       "\t343 &  0.02498 &  0       &  1.89    & 0        & 0.518    & 6.540    &  59.7    & 6.2669   &  1       & 422      & 15.9     & 389.96   &  8.65    & 16.5    \\\\\n",
       "\t414 & 28.65580 &  0       & 18.10    & 0        & 0.597    & 5.155    & 100.0    & 1.5894   & 24       & 666      & 20.2     & 210.97   & 20.08    & 16.3    \\\\\n",
       "\\end{tabular}\n"
      ],
      "text/markdown": [
       "\n",
       "| <!--/--> | crim | zn | indus | chas | nox | rm | age | dis | rad | tax | ptratio | black | lstat | medv | \n",
       "|---|---|---|---|---|---|---|---|---|---|\n",
       "| 305 |  0.05515 | 33       |  2.18    | 0        | 0.472    | 7.236    |  41.1    | 4.0220   |  7       | 222      | 18.4     | 393.68   |  6.93    | 36.1     | \n",
       "| 99 |  0.08187 |  0       |  2.89    | 0        | 0.445    | 7.820    |  36.9    | 3.4952   |  2       | 276      | 18.0     | 393.53   |  3.57    | 43.8     | \n",
       "| 488 |  4.83567 |  0       | 18.10    | 0        | 0.583    | 5.905    |  53.2    | 3.1523   | 24       | 666      | 20.2     | 388.22   | 11.45    | 20.6     | \n",
       "| 328 |  0.24103 |  0       |  7.38    | 0        | 0.493    | 6.083    |  43.7    | 5.4159   |  5       | 287      | 19.6     | 396.90   | 12.79    | 22.2     | \n",
       "| 185 |  0.08308 |  0       |  2.46    | 0        | 0.488    | 5.604    |  89.8    | 2.9879   |  3       | 193      | 17.8     | 391.00   | 13.98    | 26.4     | \n",
       "| 496 |  0.17899 |  0       |  9.69    | 0        | 0.585    | 5.670    |  28.8    | 2.7986   |  6       | 391      | 19.2     | 393.29   | 17.60    | 23.1     | \n",
       "| 408 | 11.95110 |  0       | 18.10    | 0        | 0.659    | 5.608    | 100.0    | 1.2852   | 24       | 666      | 20.2     | 332.09   | 12.13    | 27.9     | \n",
       "| 127 |  0.38735 |  0       | 25.65    | 0        | 0.581    | 5.613    |  95.6    | 1.7572   |  2       | 188      | 19.1     | 359.29   | 27.26    | 15.7     | \n",
       "| 343 |  0.02498 |  0       |  1.89    | 0        | 0.518    | 6.540    |  59.7    | 6.2669   |  1       | 422      | 15.9     | 389.96   |  8.65    | 16.5     | \n",
       "| 414 | 28.65580 |  0       | 18.10    | 0        | 0.597    | 5.155    | 100.0    | 1.5894   | 24       | 666      | 20.2     | 210.97   | 20.08    | 16.3     | \n",
       "\n",
       "\n"
      ],
      "text/plain": [
       "    crim     zn indus chas nox   rm    age   dis    rad tax ptratio black \n",
       "305  0.05515 33  2.18 0    0.472 7.236  41.1 4.0220  7  222 18.4    393.68\n",
       "99   0.08187  0  2.89 0    0.445 7.820  36.9 3.4952  2  276 18.0    393.53\n",
       "488  4.83567  0 18.10 0    0.583 5.905  53.2 3.1523 24  666 20.2    388.22\n",
       "328  0.24103  0  7.38 0    0.493 6.083  43.7 5.4159  5  287 19.6    396.90\n",
       "185  0.08308  0  2.46 0    0.488 5.604  89.8 2.9879  3  193 17.8    391.00\n",
       "496  0.17899  0  9.69 0    0.585 5.670  28.8 2.7986  6  391 19.2    393.29\n",
       "408 11.95110  0 18.10 0    0.659 5.608 100.0 1.2852 24  666 20.2    332.09\n",
       "127  0.38735  0 25.65 0    0.581 5.613  95.6 1.7572  2  188 19.1    359.29\n",
       "343  0.02498  0  1.89 0    0.518 6.540  59.7 6.2669  1  422 15.9    389.96\n",
       "414 28.65580  0 18.10 0    0.597 5.155 100.0 1.5894 24  666 20.2    210.97\n",
       "    lstat medv\n",
       "305  6.93 36.1\n",
       "99   3.57 43.8\n",
       "488 11.45 20.6\n",
       "328 12.79 22.2\n",
       "185 13.98 26.4\n",
       "496 17.60 23.1\n",
       "408 12.13 27.9\n",
       "127 27.26 15.7\n",
       "343  8.65 16.5\n",
       "414 20.08 16.3"
      ]
     },
     "metadata": {},
     "output_type": "display_data"
    }
   ],
   "source": [
    "sample"
   ]
  },
  {
   "cell_type": "markdown",
   "metadata": {},
   "source": [
    "**1% Sample Size**"
   ]
  },
  {
   "cell_type": "code",
   "execution_count": 73,
   "metadata": {},
   "outputs": [],
   "source": [
    "sample_means_1 = colMeans(sample_n(Boston, 5))"
   ]
  },
  {
   "cell_type": "code",
   "execution_count": 74,
   "metadata": {},
   "outputs": [
    {
     "data": {
      "text/html": [
       "<dl class=dl-horizontal>\n",
       "\t<dt>crim</dt>\n",
       "\t\t<dd>2.172382</dd>\n",
       "\t<dt>zn</dt>\n",
       "\t\t<dd>10.6</dd>\n",
       "\t<dt>indus</dt>\n",
       "\t\t<dd>12.524</dd>\n",
       "\t<dt>chas</dt>\n",
       "\t\t<dd>0</dd>\n",
       "\t<dt>nox</dt>\n",
       "\t\t<dd>0.5538</dd>\n",
       "\t<dt>rm</dt>\n",
       "\t\t<dd>6.4102</dd>\n",
       "\t<dt>age</dt>\n",
       "\t\t<dd>73.56</dd>\n",
       "\t<dt>dis</dt>\n",
       "\t\t<dd>3.54572</dd>\n",
       "\t<dt>rad</dt>\n",
       "\t\t<dd>8.6</dd>\n",
       "\t<dt>tax</dt>\n",
       "\t\t<dd>370</dd>\n",
       "\t<dt>ptratio</dt>\n",
       "\t\t<dd>19.42</dd>\n",
       "\t<dt>black</dt>\n",
       "\t\t<dd>389.98</dd>\n",
       "\t<dt>lstat</dt>\n",
       "\t\t<dd>12.592</dd>\n",
       "\t<dt>medv</dt>\n",
       "\t\t<dd>24.48</dd>\n",
       "</dl>\n"
      ],
      "text/latex": [
       "\\begin{description*}\n",
       "\\item[crim] 2.172382\n",
       "\\item[zn] 10.6\n",
       "\\item[indus] 12.524\n",
       "\\item[chas] 0\n",
       "\\item[nox] 0.5538\n",
       "\\item[rm] 6.4102\n",
       "\\item[age] 73.56\n",
       "\\item[dis] 3.54572\n",
       "\\item[rad] 8.6\n",
       "\\item[tax] 370\n",
       "\\item[ptratio] 19.42\n",
       "\\item[black] 389.98\n",
       "\\item[lstat] 12.592\n",
       "\\item[medv] 24.48\n",
       "\\end{description*}\n"
      ],
      "text/markdown": [
       "crim\n",
       ":   2.172382zn\n",
       ":   10.6indus\n",
       ":   12.524chas\n",
       ":   0nox\n",
       ":   0.5538rm\n",
       ":   6.4102age\n",
       ":   73.56dis\n",
       ":   3.54572rad\n",
       ":   8.6tax\n",
       ":   370ptratio\n",
       ":   19.42black\n",
       ":   389.98lstat\n",
       ":   12.592medv\n",
       ":   24.48\n",
       "\n"
      ],
      "text/plain": [
       "      crim         zn      indus       chas        nox         rm        age \n",
       "  2.172382  10.600000  12.524000   0.000000   0.553800   6.410200  73.560000 \n",
       "       dis        rad        tax    ptratio      black      lstat       medv \n",
       "  3.545720   8.600000 370.000000  19.420000 389.980000  12.592000  24.480000 "
      ]
     },
     "metadata": {},
     "output_type": "display_data"
    }
   ],
   "source": [
    "sample_means_1"
   ]
  },
  {
   "cell_type": "code",
   "execution_count": 75,
   "metadata": {
    "scrolled": true
   },
   "outputs": [
    {
     "data": {
      "text/html": [
       "<dl class=dl-horizontal>\n",
       "\t<dt>crim</dt>\n",
       "\t\t<dd>-0.167544498071495</dd>\n",
       "\t<dt>zn</dt>\n",
       "\t\t<dd>-0.0327425405816426</dd>\n",
       "\t<dt>indus</dt>\n",
       "\t\t<dd>0.202208451347114</dd>\n",
       "\t<dt>chas</dt>\n",
       "\t\t<dd>-0.272329067679209</dd>\n",
       "\t<dt>nox</dt>\n",
       "\t\t<dd>-0.00772417364588387</dd>\n",
       "\t<dt>rm</dt>\n",
       "\t\t<dd>0.178711285121601</dd>\n",
       "\t<dt>age</dt>\n",
       "\t\t<dd>0.177097707156519</dd>\n",
       "\t<dt>dis</dt>\n",
       "\t\t<dd>-0.118403138491971</dd>\n",
       "\t<dt>rad</dt>\n",
       "\t\t<dd>-0.109036273381609</dd>\n",
       "\t<dt>tax</dt>\n",
       "\t\t<dd>-0.226876755964714</dd>\n",
       "\t<dt>ptratio</dt>\n",
       "\t\t<dd>0.445492227216553</dd>\n",
       "\t<dt>black</dt>\n",
       "\t\t<dd>0.364817545916921</dd>\n",
       "\t<dt>lstat</dt>\n",
       "\t\t<dd>-0.00855100337809409</dd>\n",
       "\t<dt>medv</dt>\n",
       "\t\t<dd>0.211718129684022</dd>\n",
       "</dl>\n"
      ],
      "text/latex": [
       "\\begin{description*}\n",
       "\\item[crim] -0.167544498071495\n",
       "\\item[zn] -0.0327425405816426\n",
       "\\item[indus] 0.202208451347114\n",
       "\\item[chas] -0.272329067679209\n",
       "\\item[nox] -0.00772417364588387\n",
       "\\item[rm] 0.178711285121601\n",
       "\\item[age] 0.177097707156519\n",
       "\\item[dis] -0.118403138491971\n",
       "\\item[rad] -0.109036273381609\n",
       "\\item[tax] -0.226876755964714\n",
       "\\item[ptratio] 0.445492227216553\n",
       "\\item[black] 0.364817545916921\n",
       "\\item[lstat] -0.00855100337809409\n",
       "\\item[medv] 0.211718129684022\n",
       "\\end{description*}\n"
      ],
      "text/markdown": [
       "crim\n",
       ":   -0.167544498071495zn\n",
       ":   -0.0327425405816426indus\n",
       ":   0.202208451347114chas\n",
       ":   -0.272329067679209nox\n",
       ":   -0.00772417364588387rm\n",
       ":   0.178711285121601age\n",
       ":   0.177097707156519dis\n",
       ":   -0.118403138491971rad\n",
       ":   -0.109036273381609tax\n",
       ":   -0.226876755964714ptratio\n",
       ":   0.445492227216553black\n",
       ":   0.364817545916921lstat\n",
       ":   -0.00855100337809409medv\n",
       ":   0.211718129684022\n",
       "\n"
      ],
      "text/plain": [
       "        crim           zn        indus         chas          nox           rm \n",
       "-0.167544498 -0.032742541  0.202208451 -0.272329068 -0.007724174  0.178711285 \n",
       "         age          dis          rad          tax      ptratio        black \n",
       " 0.177097707 -0.118403138 -0.109036273 -0.226876756  0.445492227  0.364817546 \n",
       "       lstat         medv \n",
       "-0.008551003  0.211718130 "
      ]
     },
     "metadata": {},
     "output_type": "display_data"
    }
   ],
   "source": [
    "(sample_means_1-stats$mean_)/stats$sd_"
   ]
  },
  {
   "cell_type": "markdown",
   "metadata": {},
   "source": [
    "**1% of Sample Size 100x**"
   ]
  },
  {
   "cell_type": "code",
   "execution_count": 76,
   "metadata": {},
   "outputs": [],
   "source": [
    "sample_100x_1_pct<- colMeans(sample_n(Boston, 5))\n",
    "\n",
    "for (i in 1:99) {\n",
    "    sample_100x_1_pct <- (sample_100x_1_pct*(i) + colMeans(sample_n(Boston, 5)))/(i+1)\n",
    "}"
   ]
  },
  {
   "cell_type": "code",
   "execution_count": 77,
   "metadata": {},
   "outputs": [
    {
     "data": {
      "text/html": [
       "<dl class=dl-horizontal>\n",
       "\t<dt>crim</dt>\n",
       "\t\t<dd>3.98034376</dd>\n",
       "\t<dt>zn</dt>\n",
       "\t\t<dd>10.05</dd>\n",
       "\t<dt>indus</dt>\n",
       "\t\t<dd>11.3475</dd>\n",
       "\t<dt>chas</dt>\n",
       "\t\t<dd>0.082</dd>\n",
       "\t<dt>nox</dt>\n",
       "\t\t<dd>0.5577504</dd>\n",
       "\t<dt>rm</dt>\n",
       "\t\t<dd>6.272854</dd>\n",
       "\t<dt>age</dt>\n",
       "\t\t<dd>68.302</dd>\n",
       "\t<dt>dis</dt>\n",
       "\t\t<dd>3.8032894</dd>\n",
       "\t<dt>rad</dt>\n",
       "\t\t<dd>9.99600000000001</dd>\n",
       "\t<dt>tax</dt>\n",
       "\t\t<dd>414.434</dd>\n",
       "\t<dt>ptratio</dt>\n",
       "\t\t<dd>18.6706</dd>\n",
       "\t<dt>black</dt>\n",
       "\t\t<dd>348.87392</dd>\n",
       "\t<dt>lstat</dt>\n",
       "\t\t<dd>12.8558</dd>\n",
       "\t<dt>medv</dt>\n",
       "\t\t<dd>21.926</dd>\n",
       "</dl>\n"
      ],
      "text/latex": [
       "\\begin{description*}\n",
       "\\item[crim] 3.98034376\n",
       "\\item[zn] 10.05\n",
       "\\item[indus] 11.3475\n",
       "\\item[chas] 0.082\n",
       "\\item[nox] 0.5577504\n",
       "\\item[rm] 6.272854\n",
       "\\item[age] 68.302\n",
       "\\item[dis] 3.8032894\n",
       "\\item[rad] 9.99600000000001\n",
       "\\item[tax] 414.434\n",
       "\\item[ptratio] 18.6706\n",
       "\\item[black] 348.87392\n",
       "\\item[lstat] 12.8558\n",
       "\\item[medv] 21.926\n",
       "\\end{description*}\n"
      ],
      "text/markdown": [
       "crim\n",
       ":   3.98034376zn\n",
       ":   10.05indus\n",
       ":   11.3475chas\n",
       ":   0.082nox\n",
       ":   0.5577504rm\n",
       ":   6.272854age\n",
       ":   68.302dis\n",
       ":   3.8032894rad\n",
       ":   9.99600000000001tax\n",
       ":   414.434ptratio\n",
       ":   18.6706black\n",
       ":   348.87392lstat\n",
       ":   12.8558medv\n",
       ":   21.926\n",
       "\n"
      ],
      "text/plain": [
       "       crim          zn       indus        chas         nox          rm \n",
       "  3.9803438  10.0500000  11.3475000   0.0820000   0.5577504   6.2728540 \n",
       "        age         dis         rad         tax     ptratio       black \n",
       " 68.3020000   3.8032894   9.9960000 414.4340000  18.6706000 348.8739200 \n",
       "      lstat        medv \n",
       " 12.8558000  21.9260000 "
      ]
     },
     "metadata": {},
     "output_type": "display_data"
    }
   ],
   "source": [
    "sample_100x_1_pct"
   ]
  },
  {
   "cell_type": "code",
   "execution_count": 78,
   "metadata": {},
   "outputs": [
    {
     "data": {
      "text/html": [
       "<dl class=dl-horizontal>\n",
       "\t<dt>crim</dt>\n",
       "\t\t<dd>0.0426458500415627</dd>\n",
       "\t<dt>zn</dt>\n",
       "\t\t<dd>-0.0563249656434209</dd>\n",
       "\t<dt>indus</dt>\n",
       "\t\t<dd>0.0307158167646626</dd>\n",
       "\t<dt>chas</dt>\n",
       "\t\t<dd>0.0505131516392408</dd>\n",
       "\t<dt>nox</dt>\n",
       "\t\t<dd>0.0263669485417368</dd>\n",
       "\t<dt>rm</dt>\n",
       "\t\t<dd>-0.0167664388240112</dd>\n",
       "\t<dt>age</dt>\n",
       "\t\t<dd>-0.00969492804081251</dd>\n",
       "\t<dt>dis</dt>\n",
       "\t\t<dd>0.00391635683785775</dd>\n",
       "\t<dt>rad</dt>\n",
       "\t\t<dd>0.0512897188045022</dd>\n",
       "\t<dt>tax</dt>\n",
       "\t\t<dd>0.0367684341280748</dd>\n",
       "\t<dt>ptratio</dt>\n",
       "\t\t<dd>0.0993403301867139</dd>\n",
       "\t<dt>black</dt>\n",
       "\t\t<dd>-0.0854386681350606</dd>\n",
       "\t<dt>lstat</dt>\n",
       "\t\t<dd>0.0283902832332555</dd>\n",
       "\t<dt>medv</dt>\n",
       "\t\t<dd>-0.0659779772356109</dd>\n",
       "</dl>\n"
      ],
      "text/latex": [
       "\\begin{description*}\n",
       "\\item[crim] 0.0426458500415627\n",
       "\\item[zn] -0.0563249656434209\n",
       "\\item[indus] 0.0307158167646626\n",
       "\\item[chas] 0.0505131516392408\n",
       "\\item[nox] 0.0263669485417368\n",
       "\\item[rm] -0.0167664388240112\n",
       "\\item[age] -0.00969492804081251\n",
       "\\item[dis] 0.00391635683785775\n",
       "\\item[rad] 0.0512897188045022\n",
       "\\item[tax] 0.0367684341280748\n",
       "\\item[ptratio] 0.0993403301867139\n",
       "\\item[black] -0.0854386681350606\n",
       "\\item[lstat] 0.0283902832332555\n",
       "\\item[medv] -0.0659779772356109\n",
       "\\end{description*}\n"
      ],
      "text/markdown": [
       "crim\n",
       ":   0.0426458500415627zn\n",
       ":   -0.0563249656434209indus\n",
       ":   0.0307158167646626chas\n",
       ":   0.0505131516392408nox\n",
       ":   0.0263669485417368rm\n",
       ":   -0.0167664388240112age\n",
       ":   -0.00969492804081251dis\n",
       ":   0.00391635683785775rad\n",
       ":   0.0512897188045022tax\n",
       ":   0.0367684341280748ptratio\n",
       ":   0.0993403301867139black\n",
       ":   -0.0854386681350606lstat\n",
       ":   0.0283902832332555medv\n",
       ":   -0.0659779772356109\n",
       "\n"
      ],
      "text/plain": [
       "        crim           zn        indus         chas          nox           rm \n",
       " 0.042645850 -0.056324966  0.030715817  0.050513152  0.026366949 -0.016766439 \n",
       "         age          dis          rad          tax      ptratio        black \n",
       "-0.009694928  0.003916357  0.051289719  0.036768434  0.099340330 -0.085438668 \n",
       "       lstat         medv \n",
       " 0.028390283 -0.065977977 "
      ]
     },
     "metadata": {},
     "output_type": "display_data"
    }
   ],
   "source": [
    "(sample_100x_1_pct-stats$mean_)/stats$sd_"
   ]
  },
  {
   "cell_type": "markdown",
   "metadata": {},
   "source": [
    "**5% Sample Size**"
   ]
  },
  {
   "cell_type": "code",
   "execution_count": 52,
   "metadata": {},
   "outputs": [],
   "source": [
    "sample_means_5 = colMeans(sample_n(Boston, 25))"
   ]
  },
  {
   "cell_type": "code",
   "execution_count": 53,
   "metadata": {},
   "outputs": [
    {
     "data": {
      "text/html": [
       "<dl class=dl-horizontal>\n",
       "\t<dt>crim</dt>\n",
       "\t\t<dd>6.8158828</dd>\n",
       "\t<dt>zn</dt>\n",
       "\t\t<dd>4.7</dd>\n",
       "\t<dt>indus</dt>\n",
       "\t\t<dd>13.9408</dd>\n",
       "\t<dt>chas</dt>\n",
       "\t\t<dd>0</dd>\n",
       "\t<dt>nox</dt>\n",
       "\t\t<dd>0.59684</dd>\n",
       "\t<dt>rm</dt>\n",
       "\t\t<dd>6.00076</dd>\n",
       "\t<dt>age</dt>\n",
       "\t\t<dd>73.932</dd>\n",
       "\t<dt>dis</dt>\n",
       "\t\t<dd>3.043588</dd>\n",
       "\t<dt>rad</dt>\n",
       "\t\t<dd>14.32</dd>\n",
       "\t<dt>tax</dt>\n",
       "\t\t<dd>503.08</dd>\n",
       "\t<dt>ptratio</dt>\n",
       "\t\t<dd>19.156</dd>\n",
       "\t<dt>black</dt>\n",
       "\t\t<dd>314.7548</dd>\n",
       "\t<dt>lstat</dt>\n",
       "\t\t<dd>16.7972</dd>\n",
       "\t<dt>medv</dt>\n",
       "\t\t<dd>18.904</dd>\n",
       "</dl>\n"
      ],
      "text/latex": [
       "\\begin{description*}\n",
       "\\item[crim] 6.8158828\n",
       "\\item[zn] 4.7\n",
       "\\item[indus] 13.9408\n",
       "\\item[chas] 0\n",
       "\\item[nox] 0.59684\n",
       "\\item[rm] 6.00076\n",
       "\\item[age] 73.932\n",
       "\\item[dis] 3.043588\n",
       "\\item[rad] 14.32\n",
       "\\item[tax] 503.08\n",
       "\\item[ptratio] 19.156\n",
       "\\item[black] 314.7548\n",
       "\\item[lstat] 16.7972\n",
       "\\item[medv] 18.904\n",
       "\\end{description*}\n"
      ],
      "text/markdown": [
       "crim\n",
       ":   6.8158828zn\n",
       ":   4.7indus\n",
       ":   13.9408chas\n",
       ":   0nox\n",
       ":   0.59684rm\n",
       ":   6.00076age\n",
       ":   73.932dis\n",
       ":   3.043588rad\n",
       ":   14.32tax\n",
       ":   503.08ptratio\n",
       ":   19.156black\n",
       ":   314.7548lstat\n",
       ":   16.7972medv\n",
       ":   18.904\n",
       "\n"
      ],
      "text/plain": [
       "      crim         zn      indus       chas        nox         rm        age \n",
       "  6.815883   4.700000  13.940800   0.000000   0.596840   6.000760  73.932000 \n",
       "       dis        rad        tax    ptratio      black      lstat       medv \n",
       "  3.043588  14.320000 503.080000  19.156000 314.754800  16.797200  18.904000 "
      ]
     },
     "metadata": {},
     "output_type": "display_data"
    }
   ],
   "source": [
    "sample_means_5"
   ]
  },
  {
   "cell_type": "code",
   "execution_count": 54,
   "metadata": {},
   "outputs": [
    {
     "data": {
      "text/html": [
       "<dl class=dl-horizontal>\n",
       "\t<dt>crim</dt>\n",
       "\t\t<dd>0.372300465029528</dd>\n",
       "\t<dt>zn</dt>\n",
       "\t\t<dd>-0.28571764578981</dd>\n",
       "\t<dt>indus</dt>\n",
       "\t\t<dd>0.408728438322395</dd>\n",
       "\t<dt>chas</dt>\n",
       "\t\t<dd>-0.272329067679209</dd>\n",
       "\t<dt>nox</dt>\n",
       "\t\t<dd>0.363701985465889</dd>\n",
       "\t<dt>rm</dt>\n",
       "\t\t<dd>-0.40402428265827</dd>\n",
       "\t<dt>age</dt>\n",
       "\t\t<dd>0.190313161757775</dd>\n",
       "\t<dt>dis</dt>\n",
       "\t\t<dd>-0.356865210574128</dd>\n",
       "\t<dt>rad</dt>\n",
       "\t\t<dd>0.547886846464059</dd>\n",
       "\t<dt>tax</dt>\n",
       "\t\t<dd>0.562741597043079</dd>\n",
       "\t<dt>ptratio</dt>\n",
       "\t\t<dd>0.323549205044314</dd>\n",
       "\t<dt>black</dt>\n",
       "\t\t<dd>-0.459163085495831</dd>\n",
       "\t<dt>lstat</dt>\n",
       "\t\t<dd>0.580325033233143</dd>\n",
       "\t<dt>medv</dt>\n",
       "\t\t<dd>-0.394559666785775</dd>\n",
       "</dl>\n"
      ],
      "text/latex": [
       "\\begin{description*}\n",
       "\\item[crim] 0.372300465029528\n",
       "\\item[zn] -0.28571764578981\n",
       "\\item[indus] 0.408728438322395\n",
       "\\item[chas] -0.272329067679209\n",
       "\\item[nox] 0.363701985465889\n",
       "\\item[rm] -0.40402428265827\n",
       "\\item[age] 0.190313161757775\n",
       "\\item[dis] -0.356865210574128\n",
       "\\item[rad] 0.547886846464059\n",
       "\\item[tax] 0.562741597043079\n",
       "\\item[ptratio] 0.323549205044314\n",
       "\\item[black] -0.459163085495831\n",
       "\\item[lstat] 0.580325033233143\n",
       "\\item[medv] -0.394559666785775\n",
       "\\end{description*}\n"
      ],
      "text/markdown": [
       "crim\n",
       ":   0.372300465029528zn\n",
       ":   -0.28571764578981indus\n",
       ":   0.408728438322395chas\n",
       ":   -0.272329067679209nox\n",
       ":   0.363701985465889rm\n",
       ":   -0.40402428265827age\n",
       ":   0.190313161757775dis\n",
       ":   -0.356865210574128rad\n",
       ":   0.547886846464059tax\n",
       ":   0.562741597043079ptratio\n",
       ":   0.323549205044314black\n",
       ":   -0.459163085495831lstat\n",
       ":   0.580325033233143medv\n",
       ":   -0.394559666785775\n",
       "\n"
      ],
      "text/plain": [
       "      crim         zn      indus       chas        nox         rm        age \n",
       " 0.3723005 -0.2857176  0.4087284 -0.2723291  0.3637020 -0.4040243  0.1903132 \n",
       "       dis        rad        tax    ptratio      black      lstat       medv \n",
       "-0.3568652  0.5478868  0.5627416  0.3235492 -0.4591631  0.5803250 -0.3945597 "
      ]
     },
     "metadata": {},
     "output_type": "display_data"
    }
   ],
   "source": [
    "(sample_means_5-stats$mean_)/stats$sd_"
   ]
  },
  {
   "cell_type": "markdown",
   "metadata": {},
   "source": [
    "**10% Sample Size**"
   ]
  },
  {
   "cell_type": "code",
   "execution_count": 55,
   "metadata": {},
   "outputs": [],
   "source": [
    "sample_means_10 = colMeans(sample_n(Boston, 51))"
   ]
  },
  {
   "cell_type": "code",
   "execution_count": 57,
   "metadata": {},
   "outputs": [
    {
     "data": {
      "text/html": [
       "<dl class=dl-horizontal>\n",
       "\t<dt>crim</dt>\n",
       "\t\t<dd>4.87341823529412</dd>\n",
       "\t<dt>zn</dt>\n",
       "\t\t<dd>9.40196078431373</dd>\n",
       "\t<dt>indus</dt>\n",
       "\t\t<dd>12.2347058823529</dd>\n",
       "\t<dt>chas</dt>\n",
       "\t\t<dd>0.0784313725490196</dd>\n",
       "\t<dt>nox</dt>\n",
       "\t\t<dd>0.562</dd>\n",
       "\t<dt>rm</dt>\n",
       "\t\t<dd>6.21990196078431</dd>\n",
       "\t<dt>age</dt>\n",
       "\t\t<dd>69.9176470588235</dd>\n",
       "\t<dt>dis</dt>\n",
       "\t\t<dd>3.77505490196078</dd>\n",
       "\t<dt>rad</dt>\n",
       "\t\t<dd>9.03921568627451</dd>\n",
       "\t<dt>tax</dt>\n",
       "\t\t<dd>403.588235294118</dd>\n",
       "\t<dt>ptratio</dt>\n",
       "\t\t<dd>18.521568627451</dd>\n",
       "\t<dt>black</dt>\n",
       "\t\t<dd>349.673529411765</dd>\n",
       "\t<dt>lstat</dt>\n",
       "\t\t<dd>12.8521568627451</dd>\n",
       "\t<dt>medv</dt>\n",
       "\t\t<dd>21.3823529411765</dd>\n",
       "</dl>\n"
      ],
      "text/latex": [
       "\\begin{description*}\n",
       "\\item[crim] 4.87341823529412\n",
       "\\item[zn] 9.40196078431373\n",
       "\\item[indus] 12.2347058823529\n",
       "\\item[chas] 0.0784313725490196\n",
       "\\item[nox] 0.562\n",
       "\\item[rm] 6.21990196078431\n",
       "\\item[age] 69.9176470588235\n",
       "\\item[dis] 3.77505490196078\n",
       "\\item[rad] 9.03921568627451\n",
       "\\item[tax] 403.588235294118\n",
       "\\item[ptratio] 18.521568627451\n",
       "\\item[black] 349.673529411765\n",
       "\\item[lstat] 12.8521568627451\n",
       "\\item[medv] 21.3823529411765\n",
       "\\end{description*}\n"
      ],
      "text/markdown": [
       "crim\n",
       ":   4.87341823529412zn\n",
       ":   9.40196078431373indus\n",
       ":   12.2347058823529chas\n",
       ":   0.0784313725490196nox\n",
       ":   0.562rm\n",
       ":   6.21990196078431age\n",
       ":   69.9176470588235dis\n",
       ":   3.77505490196078rad\n",
       ":   9.03921568627451tax\n",
       ":   403.588235294118ptratio\n",
       ":   18.521568627451black\n",
       ":   349.673529411765lstat\n",
       ":   12.8521568627451medv\n",
       ":   21.3823529411765\n",
       "\n"
      ],
      "text/plain": [
       "        crim           zn        indus         chas          nox           rm \n",
       "  4.87341824   9.40196078  12.23470588   0.07843137   0.56200000   6.21990196 \n",
       "         age          dis          rad          tax      ptratio        black \n",
       " 69.91764706   3.77505490   9.03921569 403.58823529  18.52156863 349.67352941 \n",
       "       lstat         medv \n",
       " 12.85215686  21.38235294 "
      ]
     },
     "metadata": {},
     "output_type": "display_data"
    }
   ],
   "source": [
    "sample_means_10"
   ]
  },
  {
   "cell_type": "code",
   "execution_count": 58,
   "metadata": {},
   "outputs": [
    {
     "data": {
      "text/html": [
       "<dl class=dl-horizontal>\n",
       "\t<dt>crim</dt>\n",
       "\t\t<dd>0.146473065310185</dd>\n",
       "\t<dt>zn</dt>\n",
       "\t\t<dd>-0.0841110315361757</dd>\n",
       "\t<dt>indus</dt>\n",
       "\t\t<dd>0.160039466727904</dd>\n",
       "\t<dt>chas</dt>\n",
       "\t\t<dd>0.0364631076612498</dd>\n",
       "\t<dt>nox</dt>\n",
       "\t\t<dd>0.0630401038800587</dd>\n",
       "\t<dt>rm</dt>\n",
       "\t\t<dd>-0.0921304399901345</dd>\n",
       "\t<dt>age</dt>\n",
       "\t\t<dd>0.0477016051783702</dd>\n",
       "\t<dt>dis</dt>\n",
       "\t\t<dd>-0.00949218296169876</dd>\n",
       "\t<dt>rad</dt>\n",
       "\t\t<dd>-0.0585938015437408</dd>\n",
       "\t<dt>tax</dt>\n",
       "\t\t<dd>-0.0275839468771022</dd>\n",
       "\t<dt>ptratio</dt>\n",
       "\t\t<dd>0.0305019363719303</dd>\n",
       "\t<dt>black</dt>\n",
       "\t\t<dd>-0.0766801315277864</dd>\n",
       "\t<dt>lstat</dt>\n",
       "\t\t<dd>0.0278801157673797</dd>\n",
       "\t<dt>medv</dt>\n",
       "\t\t<dd>-0.125088655298883</dd>\n",
       "</dl>\n"
      ],
      "text/latex": [
       "\\begin{description*}\n",
       "\\item[crim] 0.146473065310185\n",
       "\\item[zn] -0.0841110315361757\n",
       "\\item[indus] 0.160039466727904\n",
       "\\item[chas] 0.0364631076612498\n",
       "\\item[nox] 0.0630401038800587\n",
       "\\item[rm] -0.0921304399901345\n",
       "\\item[age] 0.0477016051783702\n",
       "\\item[dis] -0.00949218296169876\n",
       "\\item[rad] -0.0585938015437408\n",
       "\\item[tax] -0.0275839468771022\n",
       "\\item[ptratio] 0.0305019363719303\n",
       "\\item[black] -0.0766801315277864\n",
       "\\item[lstat] 0.0278801157673797\n",
       "\\item[medv] -0.125088655298883\n",
       "\\end{description*}\n"
      ],
      "text/markdown": [
       "crim\n",
       ":   0.146473065310185zn\n",
       ":   -0.0841110315361757indus\n",
       ":   0.160039466727904chas\n",
       ":   0.0364631076612498nox\n",
       ":   0.0630401038800587rm\n",
       ":   -0.0921304399901345age\n",
       ":   0.0477016051783702dis\n",
       ":   -0.00949218296169876rad\n",
       ":   -0.0585938015437408tax\n",
       ":   -0.0275839468771022ptratio\n",
       ":   0.0305019363719303black\n",
       ":   -0.0766801315277864lstat\n",
       ":   0.0278801157673797medv\n",
       ":   -0.125088655298883\n",
       "\n"
      ],
      "text/plain": [
       "        crim           zn        indus         chas          nox           rm \n",
       " 0.146473065 -0.084111032  0.160039467  0.036463108  0.063040104 -0.092130440 \n",
       "         age          dis          rad          tax      ptratio        black \n",
       " 0.047701605 -0.009492183 -0.058593802 -0.027583947  0.030501936 -0.076680132 \n",
       "       lstat         medv \n",
       " 0.027880116 -0.125088655 "
      ]
     },
     "metadata": {},
     "output_type": "display_data"
    }
   ],
   "source": [
    "(sample_means_10-stats$mean_)/stats$sd_"
   ]
  },
  {
   "cell_type": "markdown",
   "metadata": {},
   "source": [
    "**25% Sample Size**"
   ]
  },
  {
   "cell_type": "code",
   "execution_count": 79,
   "metadata": {},
   "outputs": [],
   "source": [
    "sample_means_25 = colMeans(sample_n(Boston, 127))"
   ]
  },
  {
   "cell_type": "code",
   "execution_count": 80,
   "metadata": {},
   "outputs": [
    {
     "data": {
      "text/html": [
       "<dl class=dl-horizontal>\n",
       "\t<dt>crim</dt>\n",
       "\t\t<dd>3.48596322834646</dd>\n",
       "\t<dt>zn</dt>\n",
       "\t\t<dd>13.3858267716535</dd>\n",
       "\t<dt>indus</dt>\n",
       "\t\t<dd>11.0096062992126</dd>\n",
       "\t<dt>chas</dt>\n",
       "\t\t<dd>0.0551181102362205</dd>\n",
       "\t<dt>nox</dt>\n",
       "\t\t<dd>0.563196850393701</dd>\n",
       "\t<dt>rm</dt>\n",
       "\t\t<dd>6.29317322834646</dd>\n",
       "\t<dt>age</dt>\n",
       "\t\t<dd>70.1866141732283</dd>\n",
       "\t<dt>dis</dt>\n",
       "\t\t<dd>3.73208661417323</dd>\n",
       "\t<dt>rad</dt>\n",
       "\t\t<dd>10</dd>\n",
       "\t<dt>tax</dt>\n",
       "\t\t<dd>419.976377952756</dd>\n",
       "\t<dt>ptratio</dt>\n",
       "\t\t<dd>18.3472440944882</dd>\n",
       "\t<dt>black</dt>\n",
       "\t\t<dd>365.161732283465</dd>\n",
       "\t<dt>lstat</dt>\n",
       "\t\t<dd>12.6441732283465</dd>\n",
       "\t<dt>medv</dt>\n",
       "\t\t<dd>22.5212598425197</dd>\n",
       "</dl>\n"
      ],
      "text/latex": [
       "\\begin{description*}\n",
       "\\item[crim] 3.48596322834646\n",
       "\\item[zn] 13.3858267716535\n",
       "\\item[indus] 11.0096062992126\n",
       "\\item[chas] 0.0551181102362205\n",
       "\\item[nox] 0.563196850393701\n",
       "\\item[rm] 6.29317322834646\n",
       "\\item[age] 70.1866141732283\n",
       "\\item[dis] 3.73208661417323\n",
       "\\item[rad] 10\n",
       "\\item[tax] 419.976377952756\n",
       "\\item[ptratio] 18.3472440944882\n",
       "\\item[black] 365.161732283465\n",
       "\\item[lstat] 12.6441732283465\n",
       "\\item[medv] 22.5212598425197\n",
       "\\end{description*}\n"
      ],
      "text/markdown": [
       "crim\n",
       ":   3.48596322834646zn\n",
       ":   13.3858267716535indus\n",
       ":   11.0096062992126chas\n",
       ":   0.0551181102362205nox\n",
       ":   0.563196850393701rm\n",
       ":   6.29317322834646age\n",
       ":   70.1866141732283dis\n",
       ":   3.73208661417323rad\n",
       ":   10tax\n",
       ":   419.976377952756ptratio\n",
       ":   18.3472440944882black\n",
       ":   365.161732283465lstat\n",
       ":   12.6441732283465medv\n",
       ":   22.5212598425197\n",
       "\n"
      ],
      "text/plain": [
       "        crim           zn        indus         chas          nox           rm \n",
       "  3.48596323  13.38582677  11.00960630   0.05511811   0.56319685   6.29317323 \n",
       "         age          dis          rad          tax      ptratio        black \n",
       " 70.18661417   3.73208661  10.00000000 419.97637795  18.34724409 365.16173228 \n",
       "       lstat         medv \n",
       " 12.64417323  22.52125984 "
      ]
     },
     "metadata": {},
     "output_type": "display_data"
    }
   ],
   "source": [
    "sample_means_25"
   ]
  },
  {
   "cell_type": "code",
   "execution_count": 81,
   "metadata": {
    "scrolled": true
   },
   "outputs": [
    {
     "data": {
      "text/html": [
       "<dl class=dl-horizontal>\n",
       "\t<dt>crim</dt>\n",
       "\t\t<dd>-0.0148299319952081</dd>\n",
       "\t<dt>zn</dt>\n",
       "\t\t<dd>0.0867057341049309</dd>\n",
       "\t<dt>indus</dt>\n",
       "\t\t<dd>-0.0185372907209705</dd>\n",
       "\t<dt>chas</dt>\n",
       "\t\t<dd>-0.0553235428828628</dd>\n",
       "\t<dt>nox</dt>\n",
       "\t\t<dd>0.0733686713699214</dd>\n",
       "\t<dt>rm</dt>\n",
       "\t\t<dd>0.0121529072763183</dd>\n",
       "\t<dt>age</dt>\n",
       "\t\t<dd>0.0572567736989289</dd>\n",
       "\t<dt>dis</dt>\n",
       "\t\t<dd>-0.0298977873438989</dd>\n",
       "\t<dt>rad</dt>\n",
       "\t\t<dd>0.0517491056015964</dd>\n",
       "\t<dt>tax</dt>\n",
       "\t\t<dd>0.0696536411524343</dd>\n",
       "\t<dt>ptratio</dt>\n",
       "\t\t<dd>-0.0500195044926401</dd>\n",
       "\t<dt>black</dt>\n",
       "\t\t<dd>0.0929701875364641</dd>\n",
       "\t<dt>lstat</dt>\n",
       "\t\t<dd>-0.00124491474357631</dd>\n",
       "\t<dt>medv</dt>\n",
       "\t\t<dd>-0.00125544752797032</dd>\n",
       "</dl>\n"
      ],
      "text/latex": [
       "\\begin{description*}\n",
       "\\item[crim] -0.0148299319952081\n",
       "\\item[zn] 0.0867057341049309\n",
       "\\item[indus] -0.0185372907209705\n",
       "\\item[chas] -0.0553235428828628\n",
       "\\item[nox] 0.0733686713699214\n",
       "\\item[rm] 0.0121529072763183\n",
       "\\item[age] 0.0572567736989289\n",
       "\\item[dis] -0.0298977873438989\n",
       "\\item[rad] 0.0517491056015964\n",
       "\\item[tax] 0.0696536411524343\n",
       "\\item[ptratio] -0.0500195044926401\n",
       "\\item[black] 0.0929701875364641\n",
       "\\item[lstat] -0.00124491474357631\n",
       "\\item[medv] -0.00125544752797032\n",
       "\\end{description*}\n"
      ],
      "text/markdown": [
       "crim\n",
       ":   -0.0148299319952081zn\n",
       ":   0.0867057341049309indus\n",
       ":   -0.0185372907209705chas\n",
       ":   -0.0553235428828628nox\n",
       ":   0.0733686713699214rm\n",
       ":   0.0121529072763183age\n",
       ":   0.0572567736989289dis\n",
       ":   -0.0298977873438989rad\n",
       ":   0.0517491056015964tax\n",
       ":   0.0696536411524343ptratio\n",
       ":   -0.0500195044926401black\n",
       ":   0.0929701875364641lstat\n",
       ":   -0.00124491474357631medv\n",
       ":   -0.00125544752797032\n",
       "\n"
      ],
      "text/plain": [
       "        crim           zn        indus         chas          nox           rm \n",
       "-0.014829932  0.086705734 -0.018537291 -0.055323543  0.073368671  0.012152907 \n",
       "         age          dis          rad          tax      ptratio        black \n",
       " 0.057256774 -0.029897787  0.051749106  0.069653641 -0.050019504  0.092970188 \n",
       "       lstat         medv \n",
       "-0.001244915 -0.001255448 "
      ]
     },
     "metadata": {},
     "output_type": "display_data"
    }
   ],
   "source": [
    "(sample_means_25-stats$mean_)/stats$sd_"
   ]
  },
  {
   "cell_type": "markdown",
   "metadata": {},
   "source": [
    "We can see that in general, the larger sample we take, the smaller the z-score is. This agrees with the law of large numbers where the larger the sample, the higher likelihood that the mean of the sample converges towards the mean of the dataset."
   ]
  },
  {
   "cell_type": "markdown",
   "metadata": {},
   "source": [
    "**Visualization of Means**"
   ]
  },
  {
   "cell_type": "code",
   "execution_count": 85,
   "metadata": {},
   "outputs": [],
   "source": [
    "means = data.frame(feature=colnames(Boston))\n",
    "means['mean_'] = sapply(Boston, mean)\n",
    "means['mean_1%'] = sapply(sample_means_1, mean)\n",
    "means['mean_1%_100x'] = sapply(sample_100x_1_pct, mean)\n",
    "means['mean_5%'] = sapply(sample_means_5, mean)\n",
    "means['mean_10%'] = sapply(sample_means_10, mean)\n",
    "means['mean_25%'] = sapply(sample_means_25, mean)"
   ]
  },
  {
   "cell_type": "code",
   "execution_count": 86,
   "metadata": {},
   "outputs": [
    {
     "data": {
      "text/html": [
       "<table>\n",
       "<thead><tr><th scope=col>feature</th><th scope=col>mean_</th><th scope=col>mean_1%</th><th scope=col>mean_1%_100x</th><th scope=col>mean_5%</th><th scope=col>mean_10%</th><th scope=col>mean_25%</th></tr></thead>\n",
       "<tbody>\n",
       "\t<tr><td>crim        </td><td>  3.61352356</td><td>  2.172382  </td><td>  3.9803438 </td><td>  6.815883  </td><td>  4.87341824</td><td>  3.48596323</td></tr>\n",
       "\t<tr><td>zn          </td><td> 11.36363636</td><td> 10.600000  </td><td> 10.0500000 </td><td>  4.700000  </td><td>  9.40196078</td><td> 13.38582677</td></tr>\n",
       "\t<tr><td>indus       </td><td> 11.13677866</td><td> 12.524000  </td><td> 11.3475000 </td><td> 13.940800  </td><td> 12.23470588</td><td> 11.00960630</td></tr>\n",
       "\t<tr><td>chas        </td><td>  0.06916996</td><td>  0.000000  </td><td>  0.0820000 </td><td>  0.000000  </td><td>  0.07843137</td><td>  0.05511811</td></tr>\n",
       "\t<tr><td>nox         </td><td>  0.55469506</td><td>  0.553800  </td><td>  0.5577504 </td><td>  0.596840  </td><td>  0.56200000</td><td>  0.56319685</td></tr>\n",
       "\t<tr><td>rm          </td><td>  6.28463439</td><td>  6.410200  </td><td>  6.2728540 </td><td>  6.000760  </td><td>  6.21990196</td><td>  6.29317323</td></tr>\n",
       "\t<tr><td>age         </td><td> 68.57490119</td><td> 73.560000  </td><td> 68.3020000 </td><td> 73.932000  </td><td> 69.91764706</td><td> 70.18661417</td></tr>\n",
       "\t<tr><td>dis         </td><td>  3.79504269</td><td>  3.545720  </td><td>  3.8032894 </td><td>  3.043588  </td><td>  3.77505490</td><td>  3.73208661</td></tr>\n",
       "\t<tr><td>rad         </td><td>  9.54940711</td><td>  8.600000  </td><td>  9.9960000 </td><td> 14.320000  </td><td>  9.03921569</td><td> 10.00000000</td></tr>\n",
       "\t<tr><td>tax         </td><td>408.23715415</td><td>370.000000  </td><td>414.4340000 </td><td>503.080000  </td><td>403.58823529</td><td>419.97637795</td></tr>\n",
       "\t<tr><td>ptratio     </td><td> 18.45553360</td><td> 19.420000  </td><td> 18.6706000 </td><td> 19.156000  </td><td> 18.52156863</td><td> 18.34724409</td></tr>\n",
       "\t<tr><td>black       </td><td>356.67403162</td><td>389.980000  </td><td>348.8739200 </td><td>314.754800  </td><td>349.67352941</td><td>365.16173228</td></tr>\n",
       "\t<tr><td>lstat       </td><td> 12.65306324</td><td> 12.592000  </td><td> 12.8558000 </td><td> 16.797200  </td><td> 12.85215686</td><td> 12.64417323</td></tr>\n",
       "\t<tr><td>medv        </td><td> 22.53280632</td><td> 24.480000  </td><td> 21.9260000 </td><td> 18.904000  </td><td> 21.38235294</td><td> 22.52125984</td></tr>\n",
       "</tbody>\n",
       "</table>\n"
      ],
      "text/latex": [
       "\\begin{tabular}{r|lllllll}\n",
       " feature & mean\\_ & mean\\_1\\% & mean\\_1\\%\\_100x & mean\\_5\\% & mean\\_10\\% & mean\\_25\\%\\\\\n",
       "\\hline\n",
       "\t crim         &   3.61352356 &   2.172382   &   3.9803438  &   6.815883   &   4.87341824 &   3.48596323\\\\\n",
       "\t zn           &  11.36363636 &  10.600000   &  10.0500000  &   4.700000   &   9.40196078 &  13.38582677\\\\\n",
       "\t indus        &  11.13677866 &  12.524000   &  11.3475000  &  13.940800   &  12.23470588 &  11.00960630\\\\\n",
       "\t chas         &   0.06916996 &   0.000000   &   0.0820000  &   0.000000   &   0.07843137 &   0.05511811\\\\\n",
       "\t nox          &   0.55469506 &   0.553800   &   0.5577504  &   0.596840   &   0.56200000 &   0.56319685\\\\\n",
       "\t rm           &   6.28463439 &   6.410200   &   6.2728540  &   6.000760   &   6.21990196 &   6.29317323\\\\\n",
       "\t age          &  68.57490119 &  73.560000   &  68.3020000  &  73.932000   &  69.91764706 &  70.18661417\\\\\n",
       "\t dis          &   3.79504269 &   3.545720   &   3.8032894  &   3.043588   &   3.77505490 &   3.73208661\\\\\n",
       "\t rad          &   9.54940711 &   8.600000   &   9.9960000  &  14.320000   &   9.03921569 &  10.00000000\\\\\n",
       "\t tax          & 408.23715415 & 370.000000   & 414.4340000  & 503.080000   & 403.58823529 & 419.97637795\\\\\n",
       "\t ptratio      &  18.45553360 &  19.420000   &  18.6706000  &  19.156000   &  18.52156863 &  18.34724409\\\\\n",
       "\t black        & 356.67403162 & 389.980000   & 348.8739200  & 314.754800   & 349.67352941 & 365.16173228\\\\\n",
       "\t lstat        &  12.65306324 &  12.592000   &  12.8558000  &  16.797200   &  12.85215686 &  12.64417323\\\\\n",
       "\t medv         &  22.53280632 &  24.480000   &  21.9260000  &  18.904000   &  21.38235294 &  22.52125984\\\\\n",
       "\\end{tabular}\n"
      ],
      "text/markdown": [
       "\n",
       "feature | mean_ | mean_1% | mean_1%_100x | mean_5% | mean_10% | mean_25% | \n",
       "|---|---|---|---|---|---|---|---|---|---|---|---|---|---|\n",
       "| crim         |   3.61352356 |   2.172382   |   3.9803438  |   6.815883   |   4.87341824 |   3.48596323 | \n",
       "| zn           |  11.36363636 |  10.600000   |  10.0500000  |   4.700000   |   9.40196078 |  13.38582677 | \n",
       "| indus        |  11.13677866 |  12.524000   |  11.3475000  |  13.940800   |  12.23470588 |  11.00960630 | \n",
       "| chas         |   0.06916996 |   0.000000   |   0.0820000  |   0.000000   |   0.07843137 |   0.05511811 | \n",
       "| nox          |   0.55469506 |   0.553800   |   0.5577504  |   0.596840   |   0.56200000 |   0.56319685 | \n",
       "| rm           |   6.28463439 |   6.410200   |   6.2728540  |   6.000760   |   6.21990196 |   6.29317323 | \n",
       "| age          |  68.57490119 |  73.560000   |  68.3020000  |  73.932000   |  69.91764706 |  70.18661417 | \n",
       "| dis          |   3.79504269 |   3.545720   |   3.8032894  |   3.043588   |   3.77505490 |   3.73208661 | \n",
       "| rad          |   9.54940711 |   8.600000   |   9.9960000  |  14.320000   |   9.03921569 |  10.00000000 | \n",
       "| tax          | 408.23715415 | 370.000000   | 414.4340000  | 503.080000   | 403.58823529 | 419.97637795 | \n",
       "| ptratio      |  18.45553360 |  19.420000   |  18.6706000  |  19.156000   |  18.52156863 |  18.34724409 | \n",
       "| black        | 356.67403162 | 389.980000   | 348.8739200  | 314.754800   | 349.67352941 | 365.16173228 | \n",
       "| lstat        |  12.65306324 |  12.592000   |  12.8558000  |  16.797200   |  12.85215686 |  12.64417323 | \n",
       "| medv         |  22.53280632 |  24.480000   |  21.9260000  |  18.904000   |  21.38235294 |  22.52125984 | \n",
       "\n",
       "\n"
      ],
      "text/plain": [
       "   feature mean_        mean_1%    mean_1%_100x mean_5%    mean_10%    \n",
       "1  crim      3.61352356   2.172382   3.9803438    6.815883   4.87341824\n",
       "2  zn       11.36363636  10.600000  10.0500000    4.700000   9.40196078\n",
       "3  indus    11.13677866  12.524000  11.3475000   13.940800  12.23470588\n",
       "4  chas      0.06916996   0.000000   0.0820000    0.000000   0.07843137\n",
       "5  nox       0.55469506   0.553800   0.5577504    0.596840   0.56200000\n",
       "6  rm        6.28463439   6.410200   6.2728540    6.000760   6.21990196\n",
       "7  age      68.57490119  73.560000  68.3020000   73.932000  69.91764706\n",
       "8  dis       3.79504269   3.545720   3.8032894    3.043588   3.77505490\n",
       "9  rad       9.54940711   8.600000   9.9960000   14.320000   9.03921569\n",
       "10 tax     408.23715415 370.000000 414.4340000  503.080000 403.58823529\n",
       "11 ptratio  18.45553360  19.420000  18.6706000   19.156000  18.52156863\n",
       "12 black   356.67403162 389.980000 348.8739200  314.754800 349.67352941\n",
       "13 lstat    12.65306324  12.592000  12.8558000   16.797200  12.85215686\n",
       "14 medv     22.53280632  24.480000  21.9260000   18.904000  21.38235294\n",
       "   mean_25%    \n",
       "1    3.48596323\n",
       "2   13.38582677\n",
       "3   11.00960630\n",
       "4    0.05511811\n",
       "5    0.56319685\n",
       "6    6.29317323\n",
       "7   70.18661417\n",
       "8    3.73208661\n",
       "9   10.00000000\n",
       "10 419.97637795\n",
       "11  18.34724409\n",
       "12 365.16173228\n",
       "13  12.64417323\n",
       "14  22.52125984"
      ]
     },
     "metadata": {},
     "output_type": "display_data"
    }
   ],
   "source": [
    "means"
   ]
  },
  {
   "cell_type": "code",
   "execution_count": 87,
   "metadata": {},
   "outputs": [],
   "source": [
    "library(reshape2)\n",
    "library(ggplot2)"
   ]
  },
  {
   "cell_type": "code",
   "execution_count": 92,
   "metadata": {},
   "outputs": [
    {
     "name": "stderr",
     "output_type": "stream",
     "text": [
      "Using feature as id variables\n"
     ]
    },
    {
     "data": {},
     "metadata": {},
     "output_type": "display_data"
    },
    {
     "data": {
      "image/png": "[encoded data removed]",
      "text/plain": [
       "plot without title"
      ]
     },
     "metadata": {},
     "output_type": "display_data"
    }
   ],
   "source": [
    "ggplot(melt(means[,c('feature','mean_','mean_1%','mean_1%_100x','mean_5%','mean_10%','mean_25%')]), aes(x = feature, y = value, fill = variable)) + \n",
    "    geom_bar(stat = \"identity\", width=0.5, position = \"dodge\")"
   ]
  },
  {
   "cell_type": "markdown",
   "metadata": {},
   "source": [
    "Looking at the bar graph, we can see that taking the average of the 5 points (1%) 10 times, gave a pretty reasonable sample of the dataset. Perhaps even better than taking 25 points(5%) once. If just taking one sample then I will choose to take 10% of the dataset."
   ]
  },
  {
   "cell_type": "code",
   "execution_count": null,
   "metadata": {},
   "outputs": [],
   "source": []
  }
 ],
 "metadata": {
  "kernelspec": {
   "display_name": "R",
   "language": "R",
   "name": "ir"
  },
  "language_info": {
   "codemirror_mode": "r",
   "file_extension": ".r",
   "mimetype": "text/x-r-source",
   "name": "R",
   "pygments_lexer": "r",
   "version": "3.3.2"
  }
 },
 "nbformat": 4,
 "nbformat_minor": 2
}
