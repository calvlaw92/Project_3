{
 "cells": [
  {
   "cell_type": "code",
   "execution_count": 78,
   "metadata": {},
   "outputs": [],
   "source": [
    "library(dplyr, warn.conflicts = FALSE)\n",
    "library(moments)\n",
    "library(ggplot2)\n",
    "library(reshape2)"
   ]
  },
  {
   "cell_type": "code",
   "execution_count": 51,
   "metadata": {},
   "outputs": [],
   "source": [
    "data(Boston,package=\"MASS\")"
   ]
  },
  {
   "cell_type": "code",
   "execution_count": 52,
   "metadata": {},
   "outputs": [
    {
     "name": "stdout",
     "output_type": "stream",
     "text": [
      "'data.frame':\t506 obs. of  14 variables:\n",
      " $ crim   : num  0.00632 0.02731 0.02729 0.03237 0.06905 ...\n",
      " $ zn     : num  18 0 0 0 0 0 12.5 12.5 12.5 12.5 ...\n",
      " $ indus  : num  2.31 7.07 7.07 2.18 2.18 2.18 7.87 7.87 7.87 7.87 ...\n",
      " $ chas   : int  0 0 0 0 0 0 0 0 0 0 ...\n",
      " $ nox    : num  0.538 0.469 0.469 0.458 0.458 0.458 0.524 0.524 0.524 0.524 ...\n",
      " $ rm     : num  6.58 6.42 7.18 7 7.15 ...\n",
      " $ age    : num  65.2 78.9 61.1 45.8 54.2 58.7 66.6 96.1 100 85.9 ...\n",
      " $ dis    : num  4.09 4.97 4.97 6.06 6.06 ...\n",
      " $ rad    : int  1 2 2 3 3 3 5 5 5 5 ...\n",
      " $ tax    : num  296 242 242 222 222 222 311 311 311 311 ...\n",
      " $ ptratio: num  15.3 17.8 17.8 18.7 18.7 18.7 15.2 15.2 15.2 15.2 ...\n",
      " $ black  : num  397 397 393 395 397 ...\n",
      " $ lstat  : num  4.98 9.14 4.03 2.94 5.33 ...\n",
      " $ medv   : num  24 21.6 34.7 33.4 36.2 28.7 22.9 27.1 16.5 18.9 ...\n"
     ]
    }
   ],
   "source": [
    "str(Boston)"
   ]
  },
  {
   "cell_type": "code",
   "execution_count": 53,
   "metadata": {},
   "outputs": [],
   "source": [
    "Boston$medv <- NULL\n",
    "Boston$chas = factor(Boston$chas)\n",
    "Boston = Filter(is.numeric, Boston)"
   ]
  },
  {
   "cell_type": "code",
   "execution_count": 54,
   "metadata": {},
   "outputs": [
    {
     "data": {
      "text/html": [
       "<table>\n",
       "<thead><tr><th></th><th scope=col>crim</th><th scope=col>zn</th><th scope=col>indus</th><th scope=col>nox</th><th scope=col>rm</th><th scope=col>age</th><th scope=col>dis</th><th scope=col>rad</th><th scope=col>tax</th><th scope=col>ptratio</th><th scope=col>black</th><th scope=col>lstat</th></tr></thead>\n",
       "<tbody>\n",
       "\t<tr><th scope=row>119</th><td>0.13058</td><td> 0.0   </td><td>10.01  </td><td>0.547  </td><td>5.872  </td><td>73.1   </td><td>2.4775 </td><td>6      </td><td>432    </td><td>17.8   </td><td>338.63 </td><td>15.37  </td></tr>\n",
       "\t<tr><th scope=row>169</th><td>2.30040</td><td> 0.0   </td><td>19.58  </td><td>0.605  </td><td>6.319  </td><td>96.1   </td><td>2.1000 </td><td>5      </td><td>403    </td><td>14.7   </td><td>297.09 </td><td>11.10  </td></tr>\n",
       "\t<tr><th scope=row>334</th><td>0.05083</td><td> 0.0   </td><td> 5.19  </td><td>0.515  </td><td>6.316  </td><td>38.1   </td><td>6.4584 </td><td>5      </td><td>224    </td><td>20.2   </td><td>389.71 </td><td> 5.68  </td></tr>\n",
       "\t<tr><th scope=row>12</th><td>0.11747</td><td>12.5   </td><td> 7.87  </td><td>0.524  </td><td>6.009  </td><td>82.9   </td><td>6.2267 </td><td>5      </td><td>311    </td><td>15.2   </td><td>396.90 </td><td>13.27  </td></tr>\n",
       "\t<tr><th scope=row>501</th><td>0.22438</td><td> 0.0   </td><td> 9.69  </td><td>0.585  </td><td>6.027  </td><td>79.7   </td><td>2.4982 </td><td>6      </td><td>391    </td><td>19.2   </td><td>396.90 </td><td>14.33  </td></tr>\n",
       "</tbody>\n",
       "</table>\n"
      ],
      "text/latex": [
       "\\begin{tabular}{r|llllllllllll}\n",
       "  & crim & zn & indus & nox & rm & age & dis & rad & tax & ptratio & black & lstat\\\\\n",
       "\\hline\n",
       "\t119 & 0.13058 &  0.0    & 10.01   & 0.547   & 5.872   & 73.1    & 2.4775  & 6       & 432     & 17.8    & 338.63  & 15.37  \\\\\n",
       "\t169 & 2.30040 &  0.0    & 19.58   & 0.605   & 6.319   & 96.1    & 2.1000  & 5       & 403     & 14.7    & 297.09  & 11.10  \\\\\n",
       "\t334 & 0.05083 &  0.0    &  5.19   & 0.515   & 6.316   & 38.1    & 6.4584  & 5       & 224     & 20.2    & 389.71  &  5.68  \\\\\n",
       "\t12 & 0.11747 & 12.5    &  7.87   & 0.524   & 6.009   & 82.9    & 6.2267  & 5       & 311     & 15.2    & 396.90  & 13.27  \\\\\n",
       "\t501 & 0.22438 &  0.0    &  9.69   & 0.585   & 6.027   & 79.7    & 2.4982  & 6       & 391     & 19.2    & 396.90  & 14.33  \\\\\n",
       "\\end{tabular}\n"
      ],
      "text/markdown": [
       "\n",
       "| <!--/--> | crim | zn | indus | nox | rm | age | dis | rad | tax | ptratio | black | lstat | \n",
       "|---|---|---|---|---|\n",
       "| 119 | 0.13058 |  0.0    | 10.01   | 0.547   | 5.872   | 73.1    | 2.4775  | 6       | 432     | 17.8    | 338.63  | 15.37   | \n",
       "| 169 | 2.30040 |  0.0    | 19.58   | 0.605   | 6.319   | 96.1    | 2.1000  | 5       | 403     | 14.7    | 297.09  | 11.10   | \n",
       "| 334 | 0.05083 |  0.0    |  5.19   | 0.515   | 6.316   | 38.1    | 6.4584  | 5       | 224     | 20.2    | 389.71  |  5.68   | \n",
       "| 12 | 0.11747 | 12.5    |  7.87   | 0.524   | 6.009   | 82.9    | 6.2267  | 5       | 311     | 15.2    | 396.90  | 13.27   | \n",
       "| 501 | 0.22438 |  0.0    |  9.69   | 0.585   | 6.027   | 79.7    | 2.4982  | 6       | 391     | 19.2    | 396.90  | 14.33   | \n",
       "\n",
       "\n"
      ],
      "text/plain": [
       "    crim    zn   indus nox   rm    age  dis    rad tax ptratio black  lstat\n",
       "119 0.13058  0.0 10.01 0.547 5.872 73.1 2.4775 6   432 17.8    338.63 15.37\n",
       "169 2.30040  0.0 19.58 0.605 6.319 96.1 2.1000 5   403 14.7    297.09 11.10\n",
       "334 0.05083  0.0  5.19 0.515 6.316 38.1 6.4584 5   224 20.2    389.71  5.68\n",
       "12  0.11747 12.5  7.87 0.524 6.009 82.9 6.2267 5   311 15.2    396.90 13.27\n",
       "501 0.22438  0.0  9.69 0.585 6.027 79.7 2.4982 6   391 19.2    396.90 14.33"
      ]
     },
     "metadata": {},
     "output_type": "display_data"
    }
   ],
   "source": [
    "sample = sample_n(Boston, 5)\n",
    "sample"
   ]
  },
  {
   "cell_type": "code",
   "execution_count": 55,
   "metadata": {},
   "outputs": [
    {
     "data": {
      "text/html": [
       "<table>\n",
       "<thead><tr><th scope=col>feature</th><th scope=col>mean_</th><th scope=col>sd_</th><th scope=col>skewness_</th></tr></thead>\n",
       "<tbody>\n",
       "\t<tr><td>crim       </td><td>  3.6135236</td><td>  8.6015451</td><td> 5.2076524 </td></tr>\n",
       "\t<tr><td>zn         </td><td> 11.3636364</td><td> 23.3224530</td><td> 2.2190631 </td></tr>\n",
       "\t<tr><td>indus      </td><td> 11.1367787</td><td>  6.8603529</td><td> 0.2941463 </td></tr>\n",
       "\t<tr><td>nox        </td><td>  0.5546951</td><td>  0.1158777</td><td> 0.7271442 </td></tr>\n",
       "\t<tr><td>rm         </td><td>  6.2846344</td><td>  0.7026171</td><td> 0.4024147 </td></tr>\n",
       "\t<tr><td>age        </td><td> 68.5749012</td><td> 28.1488614</td><td>-0.5971856 </td></tr>\n",
       "\t<tr><td>dis        </td><td>  3.7950427</td><td>  2.1057101</td><td> 1.0087788 </td></tr>\n",
       "\t<tr><td>rad        </td><td>  9.5494071</td><td>  8.7072594</td><td> 1.0018335 </td></tr>\n",
       "\t<tr><td>tax        </td><td>408.2371542</td><td>168.5371161</td><td> 0.6679683 </td></tr>\n",
       "\t<tr><td>ptratio    </td><td> 18.4555336</td><td>  2.1649455</td><td>-0.7999445 </td></tr>\n",
       "\t<tr><td>black      </td><td>356.6740316</td><td> 91.2948644</td><td>-2.8817983 </td></tr>\n",
       "\t<tr><td>lstat      </td><td> 12.6530632</td><td>  7.1410615</td><td> 0.9037707 </td></tr>\n",
       "</tbody>\n",
       "</table>\n"
      ],
      "text/latex": [
       "\\begin{tabular}{r|llll}\n",
       " feature & mean\\_ & sd\\_ & skewness\\_\\\\\n",
       "\\hline\n",
       "\t crim        &   3.6135236 &   8.6015451 &  5.2076524 \\\\\n",
       "\t zn          &  11.3636364 &  23.3224530 &  2.2190631 \\\\\n",
       "\t indus       &  11.1367787 &   6.8603529 &  0.2941463 \\\\\n",
       "\t nox         &   0.5546951 &   0.1158777 &  0.7271442 \\\\\n",
       "\t rm          &   6.2846344 &   0.7026171 &  0.4024147 \\\\\n",
       "\t age         &  68.5749012 &  28.1488614 & -0.5971856 \\\\\n",
       "\t dis         &   3.7950427 &   2.1057101 &  1.0087788 \\\\\n",
       "\t rad         &   9.5494071 &   8.7072594 &  1.0018335 \\\\\n",
       "\t tax         & 408.2371542 & 168.5371161 &  0.6679683 \\\\\n",
       "\t ptratio     &  18.4555336 &   2.1649455 & -0.7999445 \\\\\n",
       "\t black       & 356.6740316 &  91.2948644 & -2.8817983 \\\\\n",
       "\t lstat       &  12.6530632 &   7.1410615 &  0.9037707 \\\\\n",
       "\\end{tabular}\n"
      ],
      "text/markdown": [
       "\n",
       "feature | mean_ | sd_ | skewness_ | \n",
       "|---|---|---|---|---|---|---|---|---|---|---|---|\n",
       "| crim        |   3.6135236 |   8.6015451 |  5.2076524  | \n",
       "| zn          |  11.3636364 |  23.3224530 |  2.2190631  | \n",
       "| indus       |  11.1367787 |   6.8603529 |  0.2941463  | \n",
       "| nox         |   0.5546951 |   0.1158777 |  0.7271442  | \n",
       "| rm          |   6.2846344 |   0.7026171 |  0.4024147  | \n",
       "| age         |  68.5749012 |  28.1488614 | -0.5971856  | \n",
       "| dis         |   3.7950427 |   2.1057101 |  1.0087788  | \n",
       "| rad         |   9.5494071 |   8.7072594 |  1.0018335  | \n",
       "| tax         | 408.2371542 | 168.5371161 |  0.6679683  | \n",
       "| ptratio     |  18.4555336 |   2.1649455 | -0.7999445  | \n",
       "| black       | 356.6740316 |  91.2948644 | -2.8817983  | \n",
       "| lstat       |  12.6530632 |   7.1410615 |  0.9037707  | \n",
       "\n",
       "\n"
      ],
      "text/plain": [
       "   feature mean_       sd_         skewness_ \n",
       "1  crim      3.6135236   8.6015451  5.2076524\n",
       "2  zn       11.3636364  23.3224530  2.2190631\n",
       "3  indus    11.1367787   6.8603529  0.2941463\n",
       "4  nox       0.5546951   0.1158777  0.7271442\n",
       "5  rm        6.2846344   0.7026171  0.4024147\n",
       "6  age      68.5749012  28.1488614 -0.5971856\n",
       "7  dis       3.7950427   2.1057101  1.0087788\n",
       "8  rad       9.5494071   8.7072594  1.0018335\n",
       "9  tax     408.2371542 168.5371161  0.6679683\n",
       "10 ptratio  18.4555336   2.1649455 -0.7999445\n",
       "11 black   356.6740316  91.2948644 -2.8817983\n",
       "12 lstat    12.6530632   7.1410615  0.9037707"
      ]
     },
     "metadata": {},
     "output_type": "display_data"
    }
   ],
   "source": [
    "stats = data.frame(feature=colnames(Boston))\n",
    "stats['mean_'] = sapply(Boston, mean)\n",
    "stats['sd_'] = sapply(Boston, sd)\n",
    "stats['skewness_'] = sapply(Boston, skewness)\n",
    "stats"
   ]
  },
  {
   "cell_type": "code",
   "execution_count": 56,
   "metadata": {},
   "outputs": [
    {
     "data": {
      "text/html": [
       "<table>\n",
       "<thead><tr><th scope=col>feature</th><th scope=col>mean_</th><th scope=col>sd_</th><th scope=col>skewness_</th></tr></thead>\n",
       "<tbody>\n",
       "\t<tr><td>crim       </td><td>  0.564732 </td><td> 0.97224089</td><td> 1.48490994</td></tr>\n",
       "\t<tr><td>zn         </td><td>  2.500000 </td><td> 5.59016994</td><td> 1.50000000</td></tr>\n",
       "\t<tr><td>indus      </td><td> 10.468000 </td><td> 5.44174788</td><td> 1.02583591</td></tr>\n",
       "\t<tr><td>nox        </td><td>  0.555200 </td><td> 0.03880979</td><td> 0.25859757</td></tr>\n",
       "\t<tr><td>rm         </td><td>  6.108600 </td><td> 0.19990073</td><td> 0.12103724</td></tr>\n",
       "\t<tr><td>age        </td><td> 73.980000 </td><td>21.73550091</td><td>-0.93831252</td></tr>\n",
       "\t<tr><td>dis        </td><td>  3.952160 </td><td> 2.18940001</td><td> 0.39617535</td></tr>\n",
       "\t<tr><td>rad        </td><td>  5.400000 </td><td> 0.54772256</td><td> 0.40824829</td></tr>\n",
       "\t<tr><td>tax        </td><td>352.200000 </td><td>84.53815707</td><td>-0.68435236</td></tr>\n",
       "\t<tr><td>ptratio    </td><td> 17.420000 </td><td> 2.41702296</td><td>-0.07690545</td></tr>\n",
       "\t<tr><td>black      </td><td>363.846000 </td><td>44.57098417</td><td>-0.70708837</td></tr>\n",
       "\t<tr><td>lstat      </td><td> 11.950000 </td><td> 3.84508127</td><td>-0.94068844</td></tr>\n",
       "</tbody>\n",
       "</table>\n"
      ],
      "text/latex": [
       "\\begin{tabular}{r|llll}\n",
       " feature & mean\\_ & sd\\_ & skewness\\_\\\\\n",
       "\\hline\n",
       "\t crim        &   0.564732  &  0.97224089 &  1.48490994\\\\\n",
       "\t zn          &   2.500000  &  5.59016994 &  1.50000000\\\\\n",
       "\t indus       &  10.468000  &  5.44174788 &  1.02583591\\\\\n",
       "\t nox         &   0.555200  &  0.03880979 &  0.25859757\\\\\n",
       "\t rm          &   6.108600  &  0.19990073 &  0.12103724\\\\\n",
       "\t age         &  73.980000  & 21.73550091 & -0.93831252\\\\\n",
       "\t dis         &   3.952160  &  2.18940001 &  0.39617535\\\\\n",
       "\t rad         &   5.400000  &  0.54772256 &  0.40824829\\\\\n",
       "\t tax         & 352.200000  & 84.53815707 & -0.68435236\\\\\n",
       "\t ptratio     &  17.420000  &  2.41702296 & -0.07690545\\\\\n",
       "\t black       & 363.846000  & 44.57098417 & -0.70708837\\\\\n",
       "\t lstat       &  11.950000  &  3.84508127 & -0.94068844\\\\\n",
       "\\end{tabular}\n"
      ],
      "text/markdown": [
       "\n",
       "feature | mean_ | sd_ | skewness_ | \n",
       "|---|---|---|---|---|---|---|---|---|---|---|---|\n",
       "| crim        |   0.564732  |  0.97224089 |  1.48490994 | \n",
       "| zn          |   2.500000  |  5.59016994 |  1.50000000 | \n",
       "| indus       |  10.468000  |  5.44174788 |  1.02583591 | \n",
       "| nox         |   0.555200  |  0.03880979 |  0.25859757 | \n",
       "| rm          |   6.108600  |  0.19990073 |  0.12103724 | \n",
       "| age         |  73.980000  | 21.73550091 | -0.93831252 | \n",
       "| dis         |   3.952160  |  2.18940001 |  0.39617535 | \n",
       "| rad         |   5.400000  |  0.54772256 |  0.40824829 | \n",
       "| tax         | 352.200000  | 84.53815707 | -0.68435236 | \n",
       "| ptratio     |  17.420000  |  2.41702296 | -0.07690545 | \n",
       "| black       | 363.846000  | 44.57098417 | -0.70708837 | \n",
       "| lstat       |  11.950000  |  3.84508127 | -0.94068844 | \n",
       "\n",
       "\n"
      ],
      "text/plain": [
       "   feature mean_      sd_         skewness_  \n",
       "1  crim      0.564732  0.97224089  1.48490994\n",
       "2  zn        2.500000  5.59016994  1.50000000\n",
       "3  indus    10.468000  5.44174788  1.02583591\n",
       "4  nox       0.555200  0.03880979  0.25859757\n",
       "5  rm        6.108600  0.19990073  0.12103724\n",
       "6  age      73.980000 21.73550091 -0.93831252\n",
       "7  dis       3.952160  2.18940001  0.39617535\n",
       "8  rad       5.400000  0.54772256  0.40824829\n",
       "9  tax     352.200000 84.53815707 -0.68435236\n",
       "10 ptratio  17.420000  2.41702296 -0.07690545\n",
       "11 black   363.846000 44.57098417 -0.70708837\n",
       "12 lstat    11.950000  3.84508127 -0.94068844"
      ]
     },
     "metadata": {},
     "output_type": "display_data"
    }
   ],
   "source": [
    "sample_stats = data.frame(feature=colnames(sample))\n",
    "sample_stats['mean_'] = sapply(sample, mean)\n",
    "sample_stats['sd_'] = sapply(sample, sd)\n",
    "sample_stats['skewness_'] = sapply(sample, skewness)\n",
    "sample_stats"
   ]
  },
  {
   "cell_type": "markdown",
   "metadata": {},
   "source": [
    "**Z-scores for sample**"
   ]
  },
  {
   "cell_type": "code",
   "execution_count": 100,
   "metadata": {},
   "outputs": [
    {
     "data": {
      "text/html": [
       "<table>\n",
       "<thead><tr><th></th><th scope=col>X119</th><th scope=col>X169</th><th scope=col>X334</th><th scope=col>X12</th><th scope=col>X501</th><th scope=col>feature</th></tr></thead>\n",
       "<tbody>\n",
       "\t<tr><th scope=row>crim</th><td>-0.40492069</td><td>-0.15266136</td><td>-0.41419228</td><td>-0.40644483</td><td>-0.3940157 </td><td>crim       </td></tr>\n",
       "\t<tr><th scope=row>zn</th><td>-0.48724019</td><td>-0.48724019</td><td>-0.48724019</td><td> 0.04872402</td><td>-0.4872402 </td><td>zn         </td></tr>\n",
       "\t<tr><th scope=row>indus</th><td>-0.16424500</td><td> 1.23072696</td><td>-0.86683276</td><td>-0.47618230</td><td>-0.2108898 </td><td>indus      </td></tr>\n",
       "\t<tr><th scope=row>nox</th><td>-0.06640675</td><td> 0.43412107</td><td>-0.34256002</td><td>-0.26489191</td><td> 0.2615253 </td><td>nox        </td></tr>\n",
       "\t<tr><th scope=row>rm</th><td>-0.58728198</td><td> 0.04891087</td><td> 0.04464111</td><td>-0.39229670</td><td>-0.3666782 </td><td>rm         </td></tr>\n",
       "\t<tr><th scope=row>age</th><td> 0.16075602</td><td> 0.97784057</td><td>-1.08263353</td><td> 0.50890509</td><td> 0.3952238 </td><td>age        </td></tr>\n",
       "\t<tr><th scope=row>dis</th><td>-0.62569993</td><td>-0.80497437</td><td> 1.26482619</td><td> 1.15479205</td><td>-0.6158695 </td><td>dis        </td></tr>\n",
       "\t<tr><th scope=row>rad</th><td>-0.40763769</td><td>-0.52248439</td><td>-0.52248439</td><td>-0.52248439</td><td>-0.4076377 </td><td>rad        </td></tr>\n",
       "\t<tr><th scope=row>tax</th><td> 0.14099473</td><td>-0.03107419</td><td>-1.09315478</td><td>-0.57694801</td><td>-0.1022751 </td><td>tax        </td></tr>\n",
       "\t<tr><th scope=row>ptratio</th><td>-0.30279450</td><td>-1.73470120</td><td> 0.80577843</td><td>-1.50374851</td><td> 0.3438730 </td><td>ptratio    </td></tr>\n",
       "\t<tr><th scope=row>black</th><td>-0.19764564</td><td>-0.65265480</td><td> 0.36186010</td><td> 0.44061589</td><td> 0.4406159 </td><td>black      </td></tr>\n",
       "\t<tr><th scope=row>lstat</th><td> 0.38046679</td><td>-0.21748353</td><td>-0.97647433</td><td> 0.08639286</td><td> 0.2348302 </td><td>lstat      </td></tr>\n",
       "</tbody>\n",
       "</table>\n"
      ],
      "text/latex": [
       "\\begin{tabular}{r|llllll}\n",
       "  & X119 & X169 & X334 & X12 & X501 & feature\\\\\n",
       "\\hline\n",
       "\tcrim & -0.40492069 & -0.15266136 & -0.41419228 & -0.40644483 & -0.3940157  & crim       \\\\\n",
       "\tzn & -0.48724019 & -0.48724019 & -0.48724019 &  0.04872402 & -0.4872402  & zn         \\\\\n",
       "\tindus & -0.16424500 &  1.23072696 & -0.86683276 & -0.47618230 & -0.2108898  & indus      \\\\\n",
       "\tnox & -0.06640675 &  0.43412107 & -0.34256002 & -0.26489191 &  0.2615253  & nox        \\\\\n",
       "\trm & -0.58728198 &  0.04891087 &  0.04464111 & -0.39229670 & -0.3666782  & rm         \\\\\n",
       "\tage &  0.16075602 &  0.97784057 & -1.08263353 &  0.50890509 &  0.3952238  & age        \\\\\n",
       "\tdis & -0.62569993 & -0.80497437 &  1.26482619 &  1.15479205 & -0.6158695  & dis        \\\\\n",
       "\trad & -0.40763769 & -0.52248439 & -0.52248439 & -0.52248439 & -0.4076377  & rad        \\\\\n",
       "\ttax &  0.14099473 & -0.03107419 & -1.09315478 & -0.57694801 & -0.1022751  & tax        \\\\\n",
       "\tptratio & -0.30279450 & -1.73470120 &  0.80577843 & -1.50374851 &  0.3438730  & ptratio    \\\\\n",
       "\tblack & -0.19764564 & -0.65265480 &  0.36186010 &  0.44061589 &  0.4406159  & black      \\\\\n",
       "\tlstat &  0.38046679 & -0.21748353 & -0.97647433 &  0.08639286 &  0.2348302  & lstat      \\\\\n",
       "\\end{tabular}\n"
      ],
      "text/markdown": [
       "\n",
       "| <!--/--> | X119 | X169 | X334 | X12 | X501 | feature | \n",
       "|---|---|---|---|---|---|---|---|---|---|---|---|\n",
       "| crim | -0.40492069 | -0.15266136 | -0.41419228 | -0.40644483 | -0.3940157  | crim        | \n",
       "| zn | -0.48724019 | -0.48724019 | -0.48724019 |  0.04872402 | -0.4872402  | zn          | \n",
       "| indus | -0.16424500 |  1.23072696 | -0.86683276 | -0.47618230 | -0.2108898  | indus       | \n",
       "| nox | -0.06640675 |  0.43412107 | -0.34256002 | -0.26489191 |  0.2615253  | nox         | \n",
       "| rm | -0.58728198 |  0.04891087 |  0.04464111 | -0.39229670 | -0.3666782  | rm          | \n",
       "| age |  0.16075602 |  0.97784057 | -1.08263353 |  0.50890509 |  0.3952238  | age         | \n",
       "| dis | -0.62569993 | -0.80497437 |  1.26482619 |  1.15479205 | -0.6158695  | dis         | \n",
       "| rad | -0.40763769 | -0.52248439 | -0.52248439 | -0.52248439 | -0.4076377  | rad         | \n",
       "| tax |  0.14099473 | -0.03107419 | -1.09315478 | -0.57694801 | -0.1022751  | tax         | \n",
       "| ptratio | -0.30279450 | -1.73470120 |  0.80577843 | -1.50374851 |  0.3438730  | ptratio     | \n",
       "| black | -0.19764564 | -0.65265480 |  0.36186010 |  0.44061589 |  0.4406159  | black       | \n",
       "| lstat |  0.38046679 | -0.21748353 | -0.97647433 |  0.08639286 |  0.2348302  | lstat       | \n",
       "\n",
       "\n"
      ],
      "text/plain": [
       "        X119        X169        X334        X12         X501       feature\n",
       "crim    -0.40492069 -0.15266136 -0.41419228 -0.40644483 -0.3940157 crim   \n",
       "zn      -0.48724019 -0.48724019 -0.48724019  0.04872402 -0.4872402 zn     \n",
       "indus   -0.16424500  1.23072696 -0.86683276 -0.47618230 -0.2108898 indus  \n",
       "nox     -0.06640675  0.43412107 -0.34256002 -0.26489191  0.2615253 nox    \n",
       "rm      -0.58728198  0.04891087  0.04464111 -0.39229670 -0.3666782 rm     \n",
       "age      0.16075602  0.97784057 -1.08263353  0.50890509  0.3952238 age    \n",
       "dis     -0.62569993 -0.80497437  1.26482619  1.15479205 -0.6158695 dis    \n",
       "rad     -0.40763769 -0.52248439 -0.52248439 -0.52248439 -0.4076377 rad    \n",
       "tax      0.14099473 -0.03107419 -1.09315478 -0.57694801 -0.1022751 tax    \n",
       "ptratio -0.30279450 -1.73470120  0.80577843 -1.50374851  0.3438730 ptratio\n",
       "black   -0.19764564 -0.65265480  0.36186010  0.44061589  0.4406159 black  \n",
       "lstat    0.38046679 -0.21748353 -0.97647433  0.08639286  0.2348302 lstat  "
      ]
     },
     "metadata": {},
     "output_type": "display_data"
    }
   ],
   "source": [
    "z_score <- data.frame(t(sample)-stats$mean_)/stats$sd_\n",
    "z_score['feature'] <- colnames(sample)\n",
    "z_score"
   ]
  },
  {
   "cell_type": "code",
   "execution_count": 101,
   "metadata": {},
   "outputs": [
    {
     "name": "stderr",
     "output_type": "stream",
     "text": [
      "Using feature as id variables\n"
     ]
    },
    {
     "data": {},
     "metadata": {},
     "output_type": "display_data"
    },
    {
     "data": {
      "image/png": "[encoded data removed]",
      "text/plain": [
       "plot without title"
      ]
     },
     "metadata": {},
     "output_type": "display_data"
    }
   ],
   "source": [
    "options(repr.plot.width=10, repr.plot.height=6)\n",
    "ggplot(data=melt(z_score), aes(x=feature, y=value, fill = variable)) + geom_bar(stat = \"identity\", width=0.75, position = \"dodge\")"
   ]
  },
  {
   "cell_type": "markdown",
   "metadata": {},
   "source": [
    "**Speculation of Sample Points**"
   ]
  },
  {
   "cell_type": "code",
   "execution_count": 73,
   "metadata": {},
   "outputs": [
    {
     "data": {
      "text/plain": [
       "      crim                zn             indus            nox        \n",
       " Min.   : 0.00632   Min.   :  0.00   Min.   : 0.46   Min.   :0.3850  \n",
       " 1st Qu.: 0.08204   1st Qu.:  0.00   1st Qu.: 5.19   1st Qu.:0.4490  \n",
       " Median : 0.25651   Median :  0.00   Median : 9.69   Median :0.5380  \n",
       " Mean   : 3.61352   Mean   : 11.36   Mean   :11.14   Mean   :0.5547  \n",
       " 3rd Qu.: 3.67708   3rd Qu.: 12.50   3rd Qu.:18.10   3rd Qu.:0.6240  \n",
       " Max.   :88.97620   Max.   :100.00   Max.   :27.74   Max.   :0.8710  \n",
       "       rm             age              dis              rad        \n",
       " Min.   :3.561   Min.   :  2.90   Min.   : 1.130   Min.   : 1.000  \n",
       " 1st Qu.:5.886   1st Qu.: 45.02   1st Qu.: 2.100   1st Qu.: 4.000  \n",
       " Median :6.208   Median : 77.50   Median : 3.207   Median : 5.000  \n",
       " Mean   :6.285   Mean   : 68.57   Mean   : 3.795   Mean   : 9.549  \n",
       " 3rd Qu.:6.623   3rd Qu.: 94.08   3rd Qu.: 5.188   3rd Qu.:24.000  \n",
       " Max.   :8.780   Max.   :100.00   Max.   :12.127   Max.   :24.000  \n",
       "      tax           ptratio          black            lstat      \n",
       " Min.   :187.0   Min.   :12.60   Min.   :  0.32   Min.   : 1.73  \n",
       " 1st Qu.:279.0   1st Qu.:17.40   1st Qu.:375.38   1st Qu.: 6.95  \n",
       " Median :330.0   Median :19.05   Median :391.44   Median :11.36  \n",
       " Mean   :408.2   Mean   :18.46   Mean   :356.67   Mean   :12.65  \n",
       " 3rd Qu.:666.0   3rd Qu.:20.20   3rd Qu.:396.23   3rd Qu.:16.95  \n",
       " Max.   :711.0   Max.   :22.00   Max.   :396.90   Max.   :37.97  "
      ]
     },
     "metadata": {},
     "output_type": "display_data"
    }
   ],
   "source": [
    "summary(Boston)"
   ]
  },
  {
   "cell_type": "code",
   "execution_count": 72,
   "metadata": {
    "scrolled": true
   },
   "outputs": [
    {
     "data": {
      "text/html": [
       "<table>\n",
       "<thead><tr><th></th><th scope=col>crim</th><th scope=col>zn</th><th scope=col>indus</th><th scope=col>nox</th><th scope=col>rm</th><th scope=col>age</th><th scope=col>dis</th><th scope=col>rad</th><th scope=col>tax</th><th scope=col>ptratio</th><th scope=col>black</th><th scope=col>lstat</th></tr></thead>\n",
       "<tbody>\n",
       "\t<tr><th scope=row>119</th><td>0.13058</td><td> 0.0   </td><td>10.01  </td><td>0.547  </td><td>5.872  </td><td>73.1   </td><td>2.4775 </td><td>6      </td><td>432    </td><td>17.8   </td><td>338.63 </td><td>15.37  </td></tr>\n",
       "\t<tr><th scope=row>169</th><td>2.30040</td><td> 0.0   </td><td>19.58  </td><td>0.605  </td><td>6.319  </td><td>96.1   </td><td>2.1000 </td><td>5      </td><td>403    </td><td>14.7   </td><td>297.09 </td><td>11.10  </td></tr>\n",
       "\t<tr><th scope=row>334</th><td>0.05083</td><td> 0.0   </td><td> 5.19  </td><td>0.515  </td><td>6.316  </td><td>38.1   </td><td>6.4584 </td><td>5      </td><td>224    </td><td>20.2   </td><td>389.71 </td><td> 5.68  </td></tr>\n",
       "\t<tr><th scope=row>12</th><td>0.11747</td><td>12.5   </td><td> 7.87  </td><td>0.524  </td><td>6.009  </td><td>82.9   </td><td>6.2267 </td><td>5      </td><td>311    </td><td>15.2   </td><td>396.90 </td><td>13.27  </td></tr>\n",
       "\t<tr><th scope=row>501</th><td>0.22438</td><td> 0.0   </td><td> 9.69  </td><td>0.585  </td><td>6.027  </td><td>79.7   </td><td>2.4982 </td><td>6      </td><td>391    </td><td>19.2   </td><td>396.90 </td><td>14.33  </td></tr>\n",
       "</tbody>\n",
       "</table>\n"
      ],
      "text/latex": [
       "\\begin{tabular}{r|llllllllllll}\n",
       "  & crim & zn & indus & nox & rm & age & dis & rad & tax & ptratio & black & lstat\\\\\n",
       "\\hline\n",
       "\t119 & 0.13058 &  0.0    & 10.01   & 0.547   & 5.872   & 73.1    & 2.4775  & 6       & 432     & 17.8    & 338.63  & 15.37  \\\\\n",
       "\t169 & 2.30040 &  0.0    & 19.58   & 0.605   & 6.319   & 96.1    & 2.1000  & 5       & 403     & 14.7    & 297.09  & 11.10  \\\\\n",
       "\t334 & 0.05083 &  0.0    &  5.19   & 0.515   & 6.316   & 38.1    & 6.4584  & 5       & 224     & 20.2    & 389.71  &  5.68  \\\\\n",
       "\t12 & 0.11747 & 12.5    &  7.87   & 0.524   & 6.009   & 82.9    & 6.2267  & 5       & 311     & 15.2    & 396.90  & 13.27  \\\\\n",
       "\t501 & 0.22438 &  0.0    &  9.69   & 0.585   & 6.027   & 79.7    & 2.4982  & 6       & 391     & 19.2    & 396.90  & 14.33  \\\\\n",
       "\\end{tabular}\n"
      ],
      "text/markdown": [
       "\n",
       "| <!--/--> | crim | zn | indus | nox | rm | age | dis | rad | tax | ptratio | black | lstat | \n",
       "|---|---|---|---|---|\n",
       "| 119 | 0.13058 |  0.0    | 10.01   | 0.547   | 5.872   | 73.1    | 2.4775  | 6       | 432     | 17.8    | 338.63  | 15.37   | \n",
       "| 169 | 2.30040 |  0.0    | 19.58   | 0.605   | 6.319   | 96.1    | 2.1000  | 5       | 403     | 14.7    | 297.09  | 11.10   | \n",
       "| 334 | 0.05083 |  0.0    |  5.19   | 0.515   | 6.316   | 38.1    | 6.4584  | 5       | 224     | 20.2    | 389.71  |  5.68   | \n",
       "| 12 | 0.11747 | 12.5    |  7.87   | 0.524   | 6.009   | 82.9    | 6.2267  | 5       | 311     | 15.2    | 396.90  | 13.27   | \n",
       "| 501 | 0.22438 |  0.0    |  9.69   | 0.585   | 6.027   | 79.7    | 2.4982  | 6       | 391     | 19.2    | 396.90  | 14.33   | \n",
       "\n",
       "\n"
      ],
      "text/plain": [
       "    crim    zn   indus nox   rm    age  dis    rad tax ptratio black  lstat\n",
       "119 0.13058  0.0 10.01 0.547 5.872 73.1 2.4775 6   432 17.8    338.63 15.37\n",
       "169 2.30040  0.0 19.58 0.605 6.319 96.1 2.1000 5   403 14.7    297.09 11.10\n",
       "334 0.05083  0.0  5.19 0.515 6.316 38.1 6.4584 5   224 20.2    389.71  5.68\n",
       "12  0.11747 12.5  7.87 0.524 6.009 82.9 6.2267 5   311 15.2    396.90 13.27\n",
       "501 0.22438  0.0  9.69 0.585 6.027 79.7 2.4982 6   391 19.2    396.90 14.33"
      ]
     },
     "metadata": {},
     "output_type": "display_data"
    }
   ],
   "source": [
    "sample"
   ]
  },
  {
   "cell_type": "markdown",
   "metadata": {},
   "source": [
    "**Predictions**"
   ]
  },
  {
   "cell_type": "markdown",
   "metadata": {},
   "source": [
    "119 is a suburb that has many of its features having means pretty close to the overall mean. Maybe slightly outside the city center.<br/>\n",
    "169 is a suburb that has some criminal activities with lots of industrial activities, old area. Seems to not have as many black people compared to the other suburbs. Perhaps there are a lot of industrial jobs.<br/>\n",
    "334 is a suburb that is considerably newly developed and not too close to industrial activities. Low crime rate. There are lots of high status people living here. Perhaps more cops around due to more wealthier or influencial people livng here. Cheap tax.<br/>\n",
    "12 is a suburb where there is a lot of residential housing, lots of old buildings. Its the max of the zn.<br/>\n",
    "501 is a tough to make a prediction, maybe same as 119."
   ]
  },
  {
   "cell_type": "markdown",
   "metadata": {},
   "source": [
    "**can categories be compared**"
   ]
  },
  {
   "cell_type": "markdown",
   "metadata": {},
   "source": [
    "Values between features/categories can sometimes be compared if there are some obvious relationship between the two. For example it makes sense that with more industrial activities then the amount of NOx released will be higher due to pollution. Since I have no knowledge on housing and the city of Boston, it is difficult for me to make predictions of the suburbs just by looking at the categories but perhaps someone with greater knowledge of these fields can make a more accurate prediction."
   ]
  },
  {
   "cell_type": "code",
   "execution_count": null,
   "metadata": {},
   "outputs": [],
   "source": []
  }
 ],
 "metadata": {
  "kernelspec": {
   "display_name": "R",
   "language": "R",
   "name": "ir"
  },
  "language_info": {
   "codemirror_mode": "r",
   "file_extension": ".r",
   "mimetype": "text/x-r-source",
   "name": "R",
   "pygments_lexer": "r",
   "version": "3.3.2"
  }
 },
 "nbformat": 4,
 "nbformat_minor": 2
}
